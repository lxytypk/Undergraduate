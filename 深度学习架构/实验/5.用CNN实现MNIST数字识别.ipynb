{
 "cells": [
  {
   "cell_type": "markdown",
   "id": "58cb1dee",
   "metadata": {},
   "source": [
    "# 用CNN实现MNIST数字识别"
   ]
  },
  {
   "cell_type": "code",
   "execution_count": 1,
   "id": "4de74e3a",
   "metadata": {},
   "outputs": [],
   "source": [
    "import os \n",
    "import tensorflow as tf\n",
    "from tensorflow.keras.datasets import mnist\n",
    "from tensorflow.keras.utils import to_categorical\n",
    "from tensorflow.keras.models import Sequential\n",
    "from tensorflow.keras.layers import Dense, Dropout, Flatten, Conv2D, MaxPool2D, Activation\n",
    "import numpy as np"
   ]
  },
  {
   "cell_type": "code",
   "execution_count": 2,
   "id": "4d533827",
   "metadata": {},
   "outputs": [
    {
     "data": {
      "text/plain": [
       "(60000, 28, 28)"
      ]
     },
     "execution_count": 2,
     "metadata": {},
     "output_type": "execute_result"
    }
   ],
   "source": [
    "(X_train,y_train),(X_test,y_test)=mnist.load_data()\n",
    "X_train.shape"
   ]
  },
  {
   "cell_type": "code",
   "execution_count": 3,
   "id": "ae12ea64",
   "metadata": {},
   "outputs": [],
   "source": [
    "X_train4D=X_train.reshape(X_train.shape[0],28,28,1).astype('float32')\n",
    "X_test4D = X_test.reshape(X_test.shape[0], 28, 28, 1).astype('float32')\n",
    "\n",
    "#归一化\n",
    "X_train4D_Normalize = X_train4D / 255 # 归一化\n",
    "X_test4D_Normalize = X_test4D / 255\n",
    "\n",
    "#将类别向量映射为二值类别矩阵,将原有的类别向量转换为独热编码的形式\n",
    "y_trainOnehot=to_categorical(y_train)\n",
    "y_testOnehot = to_categorical(y_test)"
   ]
  },
  {
   "cell_type": "code",
   "execution_count": 4,
   "id": "8e49a61b",
   "metadata": {},
   "outputs": [
    {
     "name": "stdout",
     "output_type": "stream",
     "text": [
      "Model: \"sequential\"\n",
      "_________________________________________________________________\n",
      "Layer (type)                 Output Shape              Param #   \n",
      "=================================================================\n",
      "conv2d (Conv2D)              (None, 28, 28, 16)        416       \n",
      "_________________________________________________________________\n",
      "max_pooling2d (MaxPooling2D) (None, 14, 14, 16)        0         \n",
      "_________________________________________________________________\n",
      "dropout (Dropout)            (None, 14, 14, 16)        0         \n",
      "_________________________________________________________________\n",
      "conv2d_1 (Conv2D)            (None, 14, 14, 32)        12832     \n",
      "_________________________________________________________________\n",
      "max_pooling2d_1 (MaxPooling2 (None, 7, 7, 32)          0         \n",
      "_________________________________________________________________\n",
      "dropout_1 (Dropout)          (None, 7, 7, 32)          0         \n",
      "_________________________________________________________________\n",
      "conv2d_2 (Conv2D)            (None, 7, 7, 64)          51264     \n",
      "_________________________________________________________________\n",
      "conv2d_3 (Conv2D)            (None, 7, 7, 128)         204928    \n",
      "_________________________________________________________________\n",
      "max_pooling2d_2 (MaxPooling2 (None, 3, 3, 128)         0         \n",
      "_________________________________________________________________\n",
      "dropout_2 (Dropout)          (None, 3, 3, 128)         0         \n",
      "_________________________________________________________________\n",
      "flatten (Flatten)            (None, 1152)              0         \n",
      "_________________________________________________________________\n",
      "dense (Dense)                (None, 128)               147584    \n",
      "_________________________________________________________________\n",
      "dropout_3 (Dropout)          (None, 128)               0         \n",
      "_________________________________________________________________\n",
      "dense_1 (Dense)              (None, 10)                1290      \n",
      "=================================================================\n",
      "Total params: 418,314\n",
      "Trainable params: 418,314\n",
      "Non-trainable params: 0\n",
      "_________________________________________________________________\n"
     ]
    }
   ],
   "source": [
    "#建立模型\n",
    "model = Sequential()\n",
    "\n",
    "#一层卷积\n",
    "model.add(Conv2D(filters=16,kernel_size=(5,5),padding='SAME',input_shape=(28,28,1),activation='relu'))\n",
    "\n",
    "#池化+Dropout\n",
    "model.add(MaxPool2D(pool_size=(2,2)))\n",
    "model.add(Dropout(0.25))\n",
    "\n",
    "#二层卷积\n",
    "model.add(Conv2D(filters=32,kernel_size=(5,5),padding='SAME',activation='relu'))\n",
    "\n",
    "#池化+Dropout\n",
    "model.add(MaxPool2D(pool_size=(2,2)))\n",
    "model.add(Dropout(0.25))\n",
    "\n",
    "#三层卷积\n",
    "model.add(Conv2D(filters=64,kernel_size=(5,5),padding='SAME',activation='relu'))\n",
    "\n",
    "#四层卷积\n",
    "model.add(Conv2D(filters=128,kernel_size=(5,5),padding='SAME',activation='relu'))\n",
    "\n",
    "#池化+Dropout\n",
    "model.add(MaxPool2D(pool_size=(2,2)))\n",
    "model.add(Dropout(0.25))\n",
    "\n",
    "#全连接层\n",
    "model.add(Flatten())\n",
    "model.add(Dense(128,activation='relu'))\n",
    "model.add(Dropout(0.25))\n",
    "model.add(Dense(10,activation='softmax'))\n",
    "\n",
    "model.summary()"
   ]
  },
  {
   "cell_type": "code",
   "execution_count": 5,
   "id": "7cdc9bb4",
   "metadata": {},
   "outputs": [
    {
     "name": "stdout",
     "output_type": "stream",
     "text": [
      "Epoch 1/10\n",
      "160/160 - 80s - loss: 0.4714 - accuracy: 0.8443 - val_loss: 0.0984 - val_accuracy: 0.9703\n",
      "Epoch 2/10\n",
      "160/160 - 68s - loss: 0.1210 - accuracy: 0.9622 - val_loss: 0.0607 - val_accuracy: 0.9818\n",
      "Epoch 3/10\n",
      "160/160 - 31s - loss: 0.0829 - accuracy: 0.9751 - val_loss: 0.0508 - val_accuracy: 0.9847\n",
      "Epoch 4/10\n",
      "160/160 - 27s - loss: 0.0641 - accuracy: 0.9800 - val_loss: 0.0400 - val_accuracy: 0.9883\n",
      "Epoch 5/10\n",
      "160/160 - 66s - loss: 0.0542 - accuracy: 0.9834 - val_loss: 0.0414 - val_accuracy: 0.9874\n",
      "Epoch 6/10\n",
      "160/160 - 97s - loss: 0.0471 - accuracy: 0.9853 - val_loss: 0.0335 - val_accuracy: 0.9901\n",
      "Epoch 7/10\n",
      "160/160 - 84s - loss: 0.0410 - accuracy: 0.9873 - val_loss: 0.0318 - val_accuracy: 0.9901\n",
      "Epoch 8/10\n",
      "160/160 - 30s - loss: 0.0370 - accuracy: 0.9881 - val_loss: 0.0278 - val_accuracy: 0.9910\n",
      "Epoch 9/10\n",
      "160/160 - 26s - loss: 0.0322 - accuracy: 0.9895 - val_loss: 0.0305 - val_accuracy: 0.9916\n",
      "Epoch 10/10\n",
      "160/160 - 23s - loss: 0.0291 - accuracy: 0.9909 - val_loss: 0.0294 - val_accuracy: 0.9916\n",
      "313/313 [==============================] - 10s 32ms/step - loss: 0.0219 - accuracy: 0.9929\n"
     ]
    }
   ],
   "source": [
    "#编译模型\n",
    "model.compile(loss='categorical_crossentropy',optimizer='adam',metrics=['accuracy'])\n",
    "\n",
    "#训练模型\n",
    "'''\n",
    "X_train4D_Normalize：数字图像的特征值\n",
    "y_trainOnehot：真是标签\n",
    "validation_split：训练与验证数据比例：80%用作训练数据，20%用作验证数据\n",
    "epochs：训练周期\n",
    "batch_size：每批次的数据项数\n",
    "verbose=2：显示训练过程\n",
    "'''\n",
    "train_history=model.fit(x=X_train4D_Normalize,y=y_trainOnehot,validation_split=0.2,batch_size=300,epochs=10,verbose=2)\n",
    "score=model.evaluate(X_test4D_Normalize,y_testOnehot)[1]"
   ]
  },
  {
   "cell_type": "code",
   "execution_count": 6,
   "id": "96ac7922",
   "metadata": {},
   "outputs": [
    {
     "name": "stdout",
     "output_type": "stream",
     "text": [
      " 14/313 [>.............................] - ETA: 10s - loss: 0.0200 - accuracy: 0.9911"
     ]
    },
    {
     "name": "stdout",
     "output_type": "stream",
     "text": [
      "313/313 [==============================] - 11s 35ms/step - loss: 0.0219 - accuracy: 0.9929\n"
     ]
    },
    {
     "data": {
      "text/plain": [
       "[0.02191629633307457, 0.992900013923645]"
      ]
     },
     "execution_count": 6,
     "metadata": {},
     "output_type": "execute_result"
    }
   ],
   "source": [
    "#评估模型\n",
    "score=model.evaluate(X_test4D_Normalize,y_testOnehot)\n",
    "score"
   ]
  },
  {
   "cell_type": "code",
   "execution_count": 9,
   "id": "11d065ae",
   "metadata": {},
   "outputs": [
    {
     "data": {
      "text/plain": [
       "array([7, 2, 1, ..., 4, 5, 6], dtype=int64)"
      ]
     },
     "execution_count": 9,
     "metadata": {},
     "output_type": "execute_result"
    }
   ],
   "source": [
    "#预测\n",
    "prediction = np.argmax(model.predict(X_test4D_Normalize), axis=1)\n",
    "prediction"
   ]
  },
  {
   "cell_type": "code",
   "execution_count": 10,
   "id": "d2f1bf4b",
   "metadata": {},
   "outputs": [
    {
     "data": {
      "text/plain": [
       "array([7, 2, 1, ..., 4, 5, 6], dtype=int64)"
      ]
     },
     "execution_count": 10,
     "metadata": {},
     "output_type": "execute_result"
    }
   ],
   "source": [
    "pred=model.predict(X_test4D_Normalize)\n",
    "pred_classes=np.argmax(pred,axis=1)\n",
    "pred_classes"
   ]
  },
  {
   "cell_type": "code",
   "execution_count": 11,
   "id": "49398f1b",
   "metadata": {},
   "outputs": [
    {
     "data": {
      "text/plain": [
       "array([[7.60870273e-12, 2.26302781e-08, 5.56119240e-08, ...,\n",
       "        9.99998212e-01, 1.93510452e-09, 1.72921807e-06],\n",
       "       [4.94327878e-07, 5.81749737e-06, 9.99992728e-01, ...,\n",
       "        5.08732683e-07, 2.74570823e-07, 2.58923799e-10],\n",
       "       [1.24316372e-07, 9.99997377e-01, 5.52598820e-08, ...,\n",
       "        8.21778599e-07, 7.31851571e-07, 2.34171367e-07],\n",
       "       ...,\n",
       "       [1.22659023e-12, 1.83145978e-08, 1.40558884e-10, ...,\n",
       "        8.69761791e-08, 7.29380289e-09, 2.88953913e-07],\n",
       "       [7.52222312e-11, 4.70320961e-12, 5.36388338e-12, ...,\n",
       "        1.52011251e-11, 1.27868352e-05, 9.38484774e-08],\n",
       "       [6.90285304e-08, 2.17292937e-11, 4.11846912e-09, ...,\n",
       "        1.28663495e-11, 9.49841805e-09, 1.29880121e-10]], dtype=float32)"
      ]
     },
     "execution_count": 11,
     "metadata": {},
     "output_type": "execute_result"
    }
   ],
   "source": [
    "pred"
   ]
  },
  {
   "cell_type": "code",
   "execution_count": 10,
   "id": "51cfabd5",
   "metadata": {},
   "outputs": [
    {
     "name": "stdout",
     "output_type": "stream",
     "text": [
      "Epoch 1/20\n",
      "200/200 - 44s - loss: 0.6005 - accuracy: 0.7981 - val_loss: 0.0748 - val_accuracy: 0.9751\n",
      "Epoch 2/20\n",
      "200/200 - 61s - loss: 0.1574 - accuracy: 0.9529 - val_loss: 0.0391 - val_accuracy: 0.9873\n",
      "Epoch 3/20\n",
      "200/200 - 59s - loss: 0.1044 - accuracy: 0.9675 - val_loss: 0.0289 - val_accuracy: 0.9900\n",
      "Epoch 4/20\n",
      "200/200 - 61s - loss: 0.0826 - accuracy: 0.9746 - val_loss: 0.0272 - val_accuracy: 0.9906\n",
      "Epoch 5/20\n",
      "200/200 - 58s - loss: 0.0722 - accuracy: 0.9780 - val_loss: 0.0207 - val_accuracy: 0.9923\n",
      "Epoch 6/20\n",
      "200/200 - 60s - loss: 0.0666 - accuracy: 0.9800 - val_loss: 0.0231 - val_accuracy: 0.9920\n",
      "Epoch 7/20\n",
      "200/200 - 61s - loss: 0.0594 - accuracy: 0.9825 - val_loss: 0.0239 - val_accuracy: 0.9905\n",
      "Epoch 8/20\n",
      "200/200 - 60s - loss: 0.0551 - accuracy: 0.9834 - val_loss: 0.0187 - val_accuracy: 0.9932\n",
      "Epoch 9/20\n",
      "200/200 - 57s - loss: 0.0532 - accuracy: 0.9844 - val_loss: 0.0169 - val_accuracy: 0.9939\n",
      "Epoch 10/20\n",
      "200/200 - 61s - loss: 0.0460 - accuracy: 0.9861 - val_loss: 0.0172 - val_accuracy: 0.9942\n",
      "Epoch 11/20\n",
      "200/200 - 59s - loss: 0.0466 - accuracy: 0.9863 - val_loss: 0.0143 - val_accuracy: 0.9952\n",
      "Epoch 12/20\n",
      "200/200 - 60s - loss: 0.0443 - accuracy: 0.9865 - val_loss: 0.0155 - val_accuracy: 0.9946\n",
      "Epoch 13/20\n",
      "200/200 - 57s - loss: 0.0400 - accuracy: 0.9883 - val_loss: 0.0164 - val_accuracy: 0.9942\n",
      "Epoch 14/20\n",
      "200/200 - 60s - loss: 0.0397 - accuracy: 0.9883 - val_loss: 0.0156 - val_accuracy: 0.9951\n",
      "Epoch 15/20\n",
      "200/200 - 62s - loss: 0.0373 - accuracy: 0.9886 - val_loss: 0.0137 - val_accuracy: 0.9955\n",
      "Epoch 16/20\n",
      "200/200 - 47s - loss: 0.0373 - accuracy: 0.9893 - val_loss: 0.0133 - val_accuracy: 0.9953\n",
      "Epoch 17/20\n",
      "200/200 - 27s - loss: 0.0357 - accuracy: 0.9895 - val_loss: 0.0141 - val_accuracy: 0.9952\n",
      "Epoch 18/20\n",
      "200/200 - 31s - loss: 0.0340 - accuracy: 0.9889 - val_loss: 0.0142 - val_accuracy: 0.9954\n",
      "Epoch 19/20\n",
      "200/200 - 28s - loss: 0.0341 - accuracy: 0.9894 - val_loss: 0.0150 - val_accuracy: 0.9952\n",
      "Epoch 20/20\n",
      "200/200 - 29s - loss: 0.0352 - accuracy: 0.9897 - val_loss: 0.0149 - val_accuracy: 0.9953\n",
      "313/313 [==============================] - 3s 9ms/step - loss: 0.0149 - accuracy: 0.9953\n"
     ]
    },
    {
     "data": {
      "text/plain": [
       "0.9952999949455261"
      ]
     },
     "execution_count": 10,
     "metadata": {},
     "output_type": "execute_result"
    }
   ],
   "source": [
    "from keras.preprocessing.image import ImageDataGenerator\n",
    "\n",
    "# 数据增强\n",
    "datagen = ImageDataGenerator(\n",
    "    rotation_range=10,\n",
    "    zoom_range=0.1,\n",
    "    width_shift_range=0.1,\n",
    "    height_shift_range=0.1\n",
    ")\n",
    "datagen.fit(X_train4D_Normalize)\n",
    "\n",
    "# 构建和训练改进的CNN模型\n",
    "#建立模型\n",
    "model = Sequential()\n",
    "\n",
    "#一层卷积\n",
    "model.add(Conv2D(filters=16,kernel_size=(5,5),padding='SAME',input_shape=(28,28,1),activation='relu'))\n",
    "\n",
    "#池化+Dropout\n",
    "model.add(MaxPool2D(pool_size=(2,2)))\n",
    "model.add(Dropout(0.25))\n",
    "\n",
    "#二层卷积\n",
    "model.add(Conv2D(filters=32,kernel_size=(5,5),padding='SAME',activation='relu'))\n",
    "\n",
    "#池化+Dropout\n",
    "model.add(MaxPool2D(pool_size=(2,2)))\n",
    "model.add(Dropout(0.25))\n",
    "\n",
    "#三层卷积\n",
    "model.add(Conv2D(filters=64,kernel_size=(5,5),padding='SAME',activation='relu'))\n",
    "\n",
    "#四层卷积\n",
    "model.add(Conv2D(filters=128,kernel_size=(5,5),padding='SAME',activation='relu'))\n",
    "\n",
    "#池化+Dropout\n",
    "model.add(MaxPool2D(pool_size=(2,2)))\n",
    "model.add(Dropout(0.25))\n",
    "\n",
    "#全连接层\n",
    "model.add(Flatten())\n",
    "model.add(Dense(128,activation='relu'))\n",
    "model.add(Dropout(0.25))\n",
    "model.add(Dense(10,activation='softmax'))\n",
    "\n",
    "model.compile(loss='categorical_crossentropy', optimizer='adam', metrics=['accuracy'])\n",
    "train_history_improved = model.fit(datagen.flow(X_train4D_Normalize, y_trainOnehot, batch_size=300), validation_data=(X_test4D_Normalize, y_testOnehot), epochs=20, verbose=2)\n",
    "score_improved = model.evaluate(X_test4D_Normalize, y_testOnehot)[1]\n",
    "score_improved"
   ]
  },
  {
   "cell_type": "code",
   "execution_count": 12,
   "id": "2ed2646e",
   "metadata": {},
   "outputs": [
    {
     "name": "stdout",
     "output_type": "stream",
     "text": [
      "313/313 [==============================] - 2s 7ms/step - loss: 0.0149 - accuracy: 0.9953\n"
     ]
    },
    {
     "data": {
      "text/plain": [
       "[0.01488664373755455, 0.9952999949455261]"
      ]
     },
     "execution_count": 12,
     "metadata": {},
     "output_type": "execute_result"
    }
   ],
   "source": [
    "score=model.evaluate(X_test4D_Normalize,y_testOnehot)\n",
    "score"
   ]
  }
 ],
 "metadata": {
  "kernelspec": {
   "display_name": "Python 3",
   "language": "python",
   "name": "python3"
  },
  "language_info": {
   "codemirror_mode": {
    "name": "ipython",
    "version": 3
   },
   "file_extension": ".py",
   "mimetype": "text/x-python",
   "name": "python",
   "nbconvert_exporter": "python",
   "pygments_lexer": "ipython3",
   "version": "3.6.8"
  }
 },
 "nbformat": 4,
 "nbformat_minor": 5
}
