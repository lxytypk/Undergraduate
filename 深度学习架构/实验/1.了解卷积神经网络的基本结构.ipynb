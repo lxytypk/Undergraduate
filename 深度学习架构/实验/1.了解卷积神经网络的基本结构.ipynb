{
 "cells": [
  {
   "cell_type": "markdown",
   "id": "93349ebf",
   "metadata": {},
   "source": [
    "### 1.了解卷积神经网络的基本结构"
   ]
  },
  {
   "cell_type": "code",
   "execution_count": 5,
   "id": "b4d59ef2",
   "metadata": {},
   "outputs": [],
   "source": [
    "import tensorflow as tf\n",
    "import numpy as np"
   ]
  },
  {
   "cell_type": "code",
   "execution_count": 3,
   "id": "aebdbdc3",
   "metadata": {},
   "outputs": [
    {
     "name": "stdout",
     "output_type": "stream",
     "text": [
      "(1, 3, 3, 2)\n",
      "(1, 2, 2, 2)\n"
     ]
    }
   ],
   "source": [
    "input=tf.random.normal([1,13,5,5]) # [ 批量数，高度，宽度，通道 ] 的4D张量表示\n",
    "filter=tf.random.normal([6,3,5,2]) # [ filter高，filter宽，上一特征图数量，filter数量 ] 的4D张量表示\n",
    "op1=tf.nn.conv2d(input,filter,strides=[1,5,2,1],padding='SAME')\n",
    "print(op1.shape) # [ 批量数，高度，宽度，通道 ]\n",
    "op2=tf.nn.conv2d(input,filter,strides=[1,5,2,1],padding='VALID')\n",
    "print(op2.shape) # [ 批量数，高度，宽度，通道 ]"
   ]
  },
  {
   "cell_type": "code",
   "execution_count": 6,
   "id": "09ee8211",
   "metadata": {},
   "outputs": [
    {
     "data": {
      "text/plain": [
       "(1, 7, 7)"
      ]
     },
     "execution_count": 6,
     "metadata": {},
     "output_type": "execute_result"
    }
   ],
   "source": [
    "# 这里我们的输入图像 image 的张量形状为 [1, 7, 7, 1]\n",
    "image = np.array([[\n",
    "    [0, 0, 0, 0, 0, 0, 0],\n",
    "    [0, 1, 0, 1, 2, 1, 0],\n",
    "    [0, 0, 2, 2, 0, 1, 0],\n",
    "    [0, 1, 1, 0, 2, 1, 0],\n",
    "    [0, 0, 2, 1, 1, 0, 0],\n",
    "    [0, 2, 1, 1, 2, 0, 0],\n",
    "    [0, 0, 0, 0, 0, 0, 0]\n",
    "]], dtype=np.float32)\n",
    "image.shape"
   ]
  },
  {
   "cell_type": "code",
   "execution_count": 7,
   "id": "94117d86",
   "metadata": {},
   "outputs": [
    {
     "data": {
      "text/plain": [
       "(1, 7, 7, 1)"
      ]
     },
     "execution_count": 7,
     "metadata": {},
     "output_type": "execute_result"
    }
   ],
   "source": [
    "image = np.expand_dims(image, axis=-1)  \n",
    "image.shape"
   ]
  },
  {
   "cell_type": "code",
   "execution_count": 9,
   "id": "024a9c8f",
   "metadata": {},
   "outputs": [
    {
     "name": "stdout",
     "output_type": "stream",
     "text": [
      "W.shape: (1, 3, 3)\n",
      "b.shape: (1,)\n"
     ]
    }
   ],
   "source": [
    "W = np.array([[\n",
    "    [ 0, 0, -1], \n",
    "    [ 0, 1, 0 ], \n",
    "    [-2, 0, 2 ]\n",
    "]], dtype=np.float32) #权重用形状为 [ fh，fw，f`n，fn ] 的4D张量表示\n",
    "b = np.array([1], dtype=np.float32) #偏置项用1D张量 [ fn ] 表示\n",
    "print('W.shape:',W.shape)\n",
    "print('b.shape:',b.shape)"
   ]
  },
  {
   "cell_type": "code",
   "execution_count": 10,
   "id": "1794bc97",
   "metadata": {},
   "outputs": [
    {
     "name": "stdout",
     "output_type": "stream",
     "text": [
      "Model: \"sequential\"\n",
      "_________________________________________________________________\n",
      "Layer (type)                 Output Shape              Param #   \n",
      "=================================================================\n",
      "conv2d (Conv2D)              (1, 5, 5, 1)              10        \n",
      "=================================================================\n",
      "Total params: 10\n",
      "Trainable params: 10\n",
      "Non-trainable params: 0\n",
      "_________________________________________________________________\n"
     ]
    }
   ],
   "source": [
    "#建立一个仅有一个卷积层的模型，用 W 和 b 初始化\n",
    "from tensorflow.keras.models import Sequential\n",
    "from tensorflow.keras.layers import Conv2D\n",
    "model=Sequential()\n",
    "model.add(Conv2D(filters=1,\n",
    "                 kernel_size=[3,3],\n",
    "                 kernel_initializer=tf.constant_initializer(W),\n",
    "                 bias_initializer=tf.constant_initializer(b)\n",
    "                ))\n",
    "\n",
    "output=model(image)\n",
    "model.summary()"
   ]
  },
  {
   "cell_type": "code",
   "execution_count": 11,
   "id": "15311473",
   "metadata": {},
   "outputs": [
    {
     "name": "stdout",
     "output_type": "stream",
     "text": [
      "tf.Tensor(\n",
      "[[ 6.  5. -2.  1.  2.]\n",
      " [ 3.  0.  3.  2. -2.]\n",
      " [ 4.  2. -1.  0.  0.]\n",
      " [ 2.  1.  2. -1. -3.]\n",
      " [ 1.  1.  1.  3.  1.]], shape=(5, 5), dtype=float32)\n"
     ]
    }
   ],
   "source": [
    "print(tf.squeeze(output))"
   ]
  }
 ],
 "metadata": {
  "kernelspec": {
   "display_name": "Python 3",
   "language": "python",
   "name": "python3"
  },
  "language_info": {
   "codemirror_mode": {
    "name": "ipython",
    "version": 3
   },
   "file_extension": ".py",
   "mimetype": "text/x-python",
   "name": "python",
   "nbconvert_exporter": "python",
   "pygments_lexer": "ipython3",
   "version": "3.6.8"
  }
 },
 "nbformat": 4,
 "nbformat_minor": 5
}
