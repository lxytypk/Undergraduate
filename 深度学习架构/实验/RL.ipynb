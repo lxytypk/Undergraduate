{
 "cells": [
  {
   "cell_type": "code",
   "execution_count": 1,
   "metadata": {},
   "outputs": [
    {
     "name": "stdout",
     "output_type": "stream",
     "text": [
      "dict_values([EnvSpec(Copy-v0), EnvSpec(RepeatCopy-v0), EnvSpec(ReversedAddition-v0), EnvSpec(ReversedAddition3-v0), EnvSpec(DuplicatedInput-v0), EnvSpec(Reverse-v0), EnvSpec(CartPole-v0), EnvSpec(CartPole-v1), EnvSpec(MountainCar-v0), EnvSpec(MountainCarContinuous-v0), EnvSpec(Pendulum-v0), EnvSpec(Acrobot-v1), EnvSpec(LunarLander-v2), EnvSpec(LunarLanderContinuous-v2), EnvSpec(BipedalWalker-v3), EnvSpec(BipedalWalkerHardcore-v3), EnvSpec(CarRacing-v0), EnvSpec(Blackjack-v0), EnvSpec(KellyCoinflip-v0), EnvSpec(KellyCoinflipGeneralized-v0), EnvSpec(FrozenLake-v1), EnvSpec(FrozenLake8x8-v1), EnvSpec(CliffWalking-v0), EnvSpec(NChain-v0), EnvSpec(Roulette-v0), EnvSpec(Taxi-v3), EnvSpec(GuessingGame-v0), EnvSpec(HotterColder-v0), EnvSpec(Reacher-v2), EnvSpec(Pusher-v2), EnvSpec(Thrower-v2), EnvSpec(Striker-v2), EnvSpec(InvertedPendulum-v2), EnvSpec(InvertedDoublePendulum-v2), EnvSpec(HalfCheetah-v2), EnvSpec(HalfCheetah-v3), EnvSpec(Hopper-v2), EnvSpec(Hopper-v3), EnvSpec(Swimmer-v2), EnvSpec(Swimmer-v3), EnvSpec(Walker2d-v2), EnvSpec(Walker2d-v3), EnvSpec(Ant-v2), EnvSpec(Ant-v3), EnvSpec(Humanoid-v2), EnvSpec(Humanoid-v3), EnvSpec(HumanoidStandup-v2), EnvSpec(FetchSlide-v1), EnvSpec(FetchPickAndPlace-v1), EnvSpec(FetchReach-v1), EnvSpec(FetchPush-v1), EnvSpec(HandReach-v0), EnvSpec(HandManipulateBlockRotateZ-v0), EnvSpec(HandManipulateBlockRotateZTouchSensors-v0), EnvSpec(HandManipulateBlockRotateZTouchSensors-v1), EnvSpec(HandManipulateBlockRotateParallel-v0), EnvSpec(HandManipulateBlockRotateParallelTouchSensors-v0), EnvSpec(HandManipulateBlockRotateParallelTouchSensors-v1), EnvSpec(HandManipulateBlockRotateXYZ-v0), EnvSpec(HandManipulateBlockRotateXYZTouchSensors-v0), EnvSpec(HandManipulateBlockRotateXYZTouchSensors-v1), EnvSpec(HandManipulateBlockFull-v0), EnvSpec(HandManipulateBlock-v0), EnvSpec(HandManipulateBlockTouchSensors-v0), EnvSpec(HandManipulateBlockTouchSensors-v1), EnvSpec(HandManipulateEggRotate-v0), EnvSpec(HandManipulateEggRotateTouchSensors-v0), EnvSpec(HandManipulateEggRotateTouchSensors-v1), EnvSpec(HandManipulateEggFull-v0), EnvSpec(HandManipulateEgg-v0), EnvSpec(HandManipulateEggTouchSensors-v0), EnvSpec(HandManipulateEggTouchSensors-v1), EnvSpec(HandManipulatePenRotate-v0), EnvSpec(HandManipulatePenRotateTouchSensors-v0), EnvSpec(HandManipulatePenRotateTouchSensors-v1), EnvSpec(HandManipulatePenFull-v0), EnvSpec(HandManipulatePen-v0), EnvSpec(HandManipulatePenTouchSensors-v0), EnvSpec(HandManipulatePenTouchSensors-v1), EnvSpec(FetchSlideDense-v1), EnvSpec(FetchPickAndPlaceDense-v1), EnvSpec(FetchReachDense-v1), EnvSpec(FetchPushDense-v1), EnvSpec(HandReachDense-v0), EnvSpec(HandManipulateBlockRotateZDense-v0), EnvSpec(HandManipulateBlockRotateZTouchSensorsDense-v0), EnvSpec(HandManipulateBlockRotateZTouchSensorsDense-v1), EnvSpec(HandManipulateBlockRotateParallelDense-v0), EnvSpec(HandManipulateBlockRotateParallelTouchSensorsDense-v0), EnvSpec(HandManipulateBlockRotateParallelTouchSensorsDense-v1), EnvSpec(HandManipulateBlockRotateXYZDense-v0), EnvSpec(HandManipulateBlockRotateXYZTouchSensorsDense-v0), EnvSpec(HandManipulateBlockRotateXYZTouchSensorsDense-v1), EnvSpec(HandManipulateBlockFullDense-v0), EnvSpec(HandManipulateBlockDense-v0), EnvSpec(HandManipulateBlockTouchSensorsDense-v0), EnvSpec(HandManipulateBlockTouchSensorsDense-v1), EnvSpec(HandManipulateEggRotateDense-v0), EnvSpec(HandManipulateEggRotateTouchSensorsDense-v0), EnvSpec(HandManipulateEggRotateTouchSensorsDense-v1), EnvSpec(HandManipulateEggFullDense-v0), EnvSpec(HandManipulateEggDense-v0), EnvSpec(HandManipulateEggTouchSensorsDense-v0), EnvSpec(HandManipulateEggTouchSensorsDense-v1), EnvSpec(HandManipulatePenRotateDense-v0), EnvSpec(HandManipulatePenRotateTouchSensorsDense-v0), EnvSpec(HandManipulatePenRotateTouchSensorsDense-v1), EnvSpec(HandManipulatePenFullDense-v0), EnvSpec(HandManipulatePenDense-v0), EnvSpec(HandManipulatePenTouchSensorsDense-v0), EnvSpec(HandManipulatePenTouchSensorsDense-v1), EnvSpec(Adventure-v0), EnvSpec(Adventure-v4), EnvSpec(AdventureDeterministic-v0), EnvSpec(AdventureDeterministic-v4), EnvSpec(AdventureNoFrameskip-v0), EnvSpec(AdventureNoFrameskip-v4), EnvSpec(Adventure-ram-v0), EnvSpec(Adventure-ram-v4), EnvSpec(Adventure-ramDeterministic-v0), EnvSpec(Adventure-ramDeterministic-v4), EnvSpec(Adventure-ramNoFrameskip-v0), EnvSpec(Adventure-ramNoFrameskip-v4), EnvSpec(AirRaid-v0), EnvSpec(AirRaid-v4), EnvSpec(AirRaidDeterministic-v0), EnvSpec(AirRaidDeterministic-v4), EnvSpec(AirRaidNoFrameskip-v0), EnvSpec(AirRaidNoFrameskip-v4), EnvSpec(AirRaid-ram-v0), EnvSpec(AirRaid-ram-v4), EnvSpec(AirRaid-ramDeterministic-v0), EnvSpec(AirRaid-ramDeterministic-v4), EnvSpec(AirRaid-ramNoFrameskip-v0), EnvSpec(AirRaid-ramNoFrameskip-v4), EnvSpec(Alien-v0), EnvSpec(Alien-v4), EnvSpec(AlienDeterministic-v0), EnvSpec(AlienDeterministic-v4), EnvSpec(AlienNoFrameskip-v0), EnvSpec(AlienNoFrameskip-v4), EnvSpec(Alien-ram-v0), EnvSpec(Alien-ram-v4), EnvSpec(Alien-ramDeterministic-v0), EnvSpec(Alien-ramDeterministic-v4), EnvSpec(Alien-ramNoFrameskip-v0), EnvSpec(Alien-ramNoFrameskip-v4), EnvSpec(Amidar-v0), EnvSpec(Amidar-v4), EnvSpec(AmidarDeterministic-v0), EnvSpec(AmidarDeterministic-v4), EnvSpec(AmidarNoFrameskip-v0), EnvSpec(AmidarNoFrameskip-v4), EnvSpec(Amidar-ram-v0), EnvSpec(Amidar-ram-v4), EnvSpec(Amidar-ramDeterministic-v0), EnvSpec(Amidar-ramDeterministic-v4), EnvSpec(Amidar-ramNoFrameskip-v0), EnvSpec(Amidar-ramNoFrameskip-v4), EnvSpec(Assault-v0), EnvSpec(Assault-v4), EnvSpec(AssaultDeterministic-v0), EnvSpec(AssaultDeterministic-v4), EnvSpec(AssaultNoFrameskip-v0), EnvSpec(AssaultNoFrameskip-v4), EnvSpec(Assault-ram-v0), EnvSpec(Assault-ram-v4), EnvSpec(Assault-ramDeterministic-v0), EnvSpec(Assault-ramDeterministic-v4), EnvSpec(Assault-ramNoFrameskip-v0), EnvSpec(Assault-ramNoFrameskip-v4), EnvSpec(Asterix-v0), EnvSpec(Asterix-v4), EnvSpec(AsterixDeterministic-v0), EnvSpec(AsterixDeterministic-v4), EnvSpec(AsterixNoFrameskip-v0), EnvSpec(AsterixNoFrameskip-v4), EnvSpec(Asterix-ram-v0), EnvSpec(Asterix-ram-v4), EnvSpec(Asterix-ramDeterministic-v0), EnvSpec(Asterix-ramDeterministic-v4), EnvSpec(Asterix-ramNoFrameskip-v0), EnvSpec(Asterix-ramNoFrameskip-v4), EnvSpec(Asteroids-v0), EnvSpec(Asteroids-v4), EnvSpec(AsteroidsDeterministic-v0), EnvSpec(AsteroidsDeterministic-v4), EnvSpec(AsteroidsNoFrameskip-v0), EnvSpec(AsteroidsNoFrameskip-v4), EnvSpec(Asteroids-ram-v0), EnvSpec(Asteroids-ram-v4), EnvSpec(Asteroids-ramDeterministic-v0), EnvSpec(Asteroids-ramDeterministic-v4), EnvSpec(Asteroids-ramNoFrameskip-v0), EnvSpec(Asteroids-ramNoFrameskip-v4), EnvSpec(Atlantis-v0), EnvSpec(Atlantis-v4), EnvSpec(AtlantisDeterministic-v0), EnvSpec(AtlantisDeterministic-v4), EnvSpec(AtlantisNoFrameskip-v0), EnvSpec(AtlantisNoFrameskip-v4), EnvSpec(Atlantis-ram-v0), EnvSpec(Atlantis-ram-v4), EnvSpec(Atlantis-ramDeterministic-v0), EnvSpec(Atlantis-ramDeterministic-v4), EnvSpec(Atlantis-ramNoFrameskip-v0), EnvSpec(Atlantis-ramNoFrameskip-v4), EnvSpec(BankHeist-v0), EnvSpec(BankHeist-v4), EnvSpec(BankHeistDeterministic-v0), EnvSpec(BankHeistDeterministic-v4), EnvSpec(BankHeistNoFrameskip-v0), EnvSpec(BankHeistNoFrameskip-v4), EnvSpec(BankHeist-ram-v0), EnvSpec(BankHeist-ram-v4), EnvSpec(BankHeist-ramDeterministic-v0), EnvSpec(BankHeist-ramDeterministic-v4), EnvSpec(BankHeist-ramNoFrameskip-v0), EnvSpec(BankHeist-ramNoFrameskip-v4), EnvSpec(BattleZone-v0), EnvSpec(BattleZone-v4), EnvSpec(BattleZoneDeterministic-v0), EnvSpec(BattleZoneDeterministic-v4), EnvSpec(BattleZoneNoFrameskip-v0), EnvSpec(BattleZoneNoFrameskip-v4), EnvSpec(BattleZone-ram-v0), EnvSpec(BattleZone-ram-v4), EnvSpec(BattleZone-ramDeterministic-v0), EnvSpec(BattleZone-ramDeterministic-v4), EnvSpec(BattleZone-ramNoFrameskip-v0), EnvSpec(BattleZone-ramNoFrameskip-v4), EnvSpec(BeamRider-v0), EnvSpec(BeamRider-v4), EnvSpec(BeamRiderDeterministic-v0), EnvSpec(BeamRiderDeterministic-v4), EnvSpec(BeamRiderNoFrameskip-v0), EnvSpec(BeamRiderNoFrameskip-v4), EnvSpec(BeamRider-ram-v0), EnvSpec(BeamRider-ram-v4), EnvSpec(BeamRider-ramDeterministic-v0), EnvSpec(BeamRider-ramDeterministic-v4), EnvSpec(BeamRider-ramNoFrameskip-v0), EnvSpec(BeamRider-ramNoFrameskip-v4), EnvSpec(Berzerk-v0), EnvSpec(Berzerk-v4), EnvSpec(BerzerkDeterministic-v0), EnvSpec(BerzerkDeterministic-v4), EnvSpec(BerzerkNoFrameskip-v0), EnvSpec(BerzerkNoFrameskip-v4), EnvSpec(Berzerk-ram-v0), EnvSpec(Berzerk-ram-v4), EnvSpec(Berzerk-ramDeterministic-v0), EnvSpec(Berzerk-ramDeterministic-v4), EnvSpec(Berzerk-ramNoFrameskip-v0), EnvSpec(Berzerk-ramNoFrameskip-v4), EnvSpec(Bowling-v0), EnvSpec(Bowling-v4), EnvSpec(BowlingDeterministic-v0), EnvSpec(BowlingDeterministic-v4), EnvSpec(BowlingNoFrameskip-v0), EnvSpec(BowlingNoFrameskip-v4), EnvSpec(Bowling-ram-v0), EnvSpec(Bowling-ram-v4), EnvSpec(Bowling-ramDeterministic-v0), EnvSpec(Bowling-ramDeterministic-v4), EnvSpec(Bowling-ramNoFrameskip-v0), EnvSpec(Bowling-ramNoFrameskip-v4), EnvSpec(Boxing-v0), EnvSpec(Boxing-v4), EnvSpec(BoxingDeterministic-v0), EnvSpec(BoxingDeterministic-v4), EnvSpec(BoxingNoFrameskip-v0), EnvSpec(BoxingNoFrameskip-v4), EnvSpec(Boxing-ram-v0), EnvSpec(Boxing-ram-v4), EnvSpec(Boxing-ramDeterministic-v0), EnvSpec(Boxing-ramDeterministic-v4), EnvSpec(Boxing-ramNoFrameskip-v0), EnvSpec(Boxing-ramNoFrameskip-v4), EnvSpec(Breakout-v0), EnvSpec(Breakout-v4), EnvSpec(BreakoutDeterministic-v0), EnvSpec(BreakoutDeterministic-v4), EnvSpec(BreakoutNoFrameskip-v0), EnvSpec(BreakoutNoFrameskip-v4), EnvSpec(Breakout-ram-v0), EnvSpec(Breakout-ram-v4), EnvSpec(Breakout-ramDeterministic-v0), EnvSpec(Breakout-ramDeterministic-v4), EnvSpec(Breakout-ramNoFrameskip-v0), EnvSpec(Breakout-ramNoFrameskip-v4), EnvSpec(Carnival-v0), EnvSpec(Carnival-v4), EnvSpec(CarnivalDeterministic-v0), EnvSpec(CarnivalDeterministic-v4), EnvSpec(CarnivalNoFrameskip-v0), EnvSpec(CarnivalNoFrameskip-v4), EnvSpec(Carnival-ram-v0), EnvSpec(Carnival-ram-v4), EnvSpec(Carnival-ramDeterministic-v0), EnvSpec(Carnival-ramDeterministic-v4), EnvSpec(Carnival-ramNoFrameskip-v0), EnvSpec(Carnival-ramNoFrameskip-v4), EnvSpec(Centipede-v0), EnvSpec(Centipede-v4), EnvSpec(CentipedeDeterministic-v0), EnvSpec(CentipedeDeterministic-v4), EnvSpec(CentipedeNoFrameskip-v0), EnvSpec(CentipedeNoFrameskip-v4), EnvSpec(Centipede-ram-v0), EnvSpec(Centipede-ram-v4), EnvSpec(Centipede-ramDeterministic-v0), EnvSpec(Centipede-ramDeterministic-v4), EnvSpec(Centipede-ramNoFrameskip-v0), EnvSpec(Centipede-ramNoFrameskip-v4), EnvSpec(ChopperCommand-v0), EnvSpec(ChopperCommand-v4), EnvSpec(ChopperCommandDeterministic-v0), EnvSpec(ChopperCommandDeterministic-v4), EnvSpec(ChopperCommandNoFrameskip-v0), EnvSpec(ChopperCommandNoFrameskip-v4), EnvSpec(ChopperCommand-ram-v0), EnvSpec(ChopperCommand-ram-v4), EnvSpec(ChopperCommand-ramDeterministic-v0), EnvSpec(ChopperCommand-ramDeterministic-v4), EnvSpec(ChopperCommand-ramNoFrameskip-v0), EnvSpec(ChopperCommand-ramNoFrameskip-v4), EnvSpec(CrazyClimber-v0), EnvSpec(CrazyClimber-v4), EnvSpec(CrazyClimberDeterministic-v0), EnvSpec(CrazyClimberDeterministic-v4), EnvSpec(CrazyClimberNoFrameskip-v0), EnvSpec(CrazyClimberNoFrameskip-v4), EnvSpec(CrazyClimber-ram-v0), EnvSpec(CrazyClimber-ram-v4), EnvSpec(CrazyClimber-ramDeterministic-v0), EnvSpec(CrazyClimber-ramDeterministic-v4), EnvSpec(CrazyClimber-ramNoFrameskip-v0), EnvSpec(CrazyClimber-ramNoFrameskip-v4), EnvSpec(Defender-v0), EnvSpec(Defender-v4), EnvSpec(DefenderDeterministic-v0), EnvSpec(DefenderDeterministic-v4), EnvSpec(DefenderNoFrameskip-v0), EnvSpec(DefenderNoFrameskip-v4), EnvSpec(Defender-ram-v0), EnvSpec(Defender-ram-v4), EnvSpec(Defender-ramDeterministic-v0), EnvSpec(Defender-ramDeterministic-v4), EnvSpec(Defender-ramNoFrameskip-v0), EnvSpec(Defender-ramNoFrameskip-v4), EnvSpec(DemonAttack-v0), EnvSpec(DemonAttack-v4), EnvSpec(DemonAttackDeterministic-v0), EnvSpec(DemonAttackDeterministic-v4), EnvSpec(DemonAttackNoFrameskip-v0), EnvSpec(DemonAttackNoFrameskip-v4), EnvSpec(DemonAttack-ram-v0), EnvSpec(DemonAttack-ram-v4), EnvSpec(DemonAttack-ramDeterministic-v0), EnvSpec(DemonAttack-ramDeterministic-v4), EnvSpec(DemonAttack-ramNoFrameskip-v0), EnvSpec(DemonAttack-ramNoFrameskip-v4), EnvSpec(DoubleDunk-v0), EnvSpec(DoubleDunk-v4), EnvSpec(DoubleDunkDeterministic-v0), EnvSpec(DoubleDunkDeterministic-v4), EnvSpec(DoubleDunkNoFrameskip-v0), EnvSpec(DoubleDunkNoFrameskip-v4), EnvSpec(DoubleDunk-ram-v0), EnvSpec(DoubleDunk-ram-v4), EnvSpec(DoubleDunk-ramDeterministic-v0), EnvSpec(DoubleDunk-ramDeterministic-v4), EnvSpec(DoubleDunk-ramNoFrameskip-v0), EnvSpec(DoubleDunk-ramNoFrameskip-v4), EnvSpec(ElevatorAction-v0), EnvSpec(ElevatorAction-v4), EnvSpec(ElevatorActionDeterministic-v0), EnvSpec(ElevatorActionDeterministic-v4), EnvSpec(ElevatorActionNoFrameskip-v0), EnvSpec(ElevatorActionNoFrameskip-v4), EnvSpec(ElevatorAction-ram-v0), EnvSpec(ElevatorAction-ram-v4), EnvSpec(ElevatorAction-ramDeterministic-v0), EnvSpec(ElevatorAction-ramDeterministic-v4), EnvSpec(ElevatorAction-ramNoFrameskip-v0), EnvSpec(ElevatorAction-ramNoFrameskip-v4), EnvSpec(Enduro-v0), EnvSpec(Enduro-v4), EnvSpec(EnduroDeterministic-v0), EnvSpec(EnduroDeterministic-v4), EnvSpec(EnduroNoFrameskip-v0), EnvSpec(EnduroNoFrameskip-v4), EnvSpec(Enduro-ram-v0), EnvSpec(Enduro-ram-v4), EnvSpec(Enduro-ramDeterministic-v0), EnvSpec(Enduro-ramDeterministic-v4), EnvSpec(Enduro-ramNoFrameskip-v0), EnvSpec(Enduro-ramNoFrameskip-v4), EnvSpec(FishingDerby-v0), EnvSpec(FishingDerby-v4), EnvSpec(FishingDerbyDeterministic-v0), EnvSpec(FishingDerbyDeterministic-v4), EnvSpec(FishingDerbyNoFrameskip-v0), EnvSpec(FishingDerbyNoFrameskip-v4), EnvSpec(FishingDerby-ram-v0), EnvSpec(FishingDerby-ram-v4), EnvSpec(FishingDerby-ramDeterministic-v0), EnvSpec(FishingDerby-ramDeterministic-v4), EnvSpec(FishingDerby-ramNoFrameskip-v0), EnvSpec(FishingDerby-ramNoFrameskip-v4), EnvSpec(Freeway-v0), EnvSpec(Freeway-v4), EnvSpec(FreewayDeterministic-v0), EnvSpec(FreewayDeterministic-v4), EnvSpec(FreewayNoFrameskip-v0), EnvSpec(FreewayNoFrameskip-v4), EnvSpec(Freeway-ram-v0), EnvSpec(Freeway-ram-v4), EnvSpec(Freeway-ramDeterministic-v0), EnvSpec(Freeway-ramDeterministic-v4), EnvSpec(Freeway-ramNoFrameskip-v0), EnvSpec(Freeway-ramNoFrameskip-v4), EnvSpec(Frostbite-v0), EnvSpec(Frostbite-v4), EnvSpec(FrostbiteDeterministic-v0), EnvSpec(FrostbiteDeterministic-v4), EnvSpec(FrostbiteNoFrameskip-v0), EnvSpec(FrostbiteNoFrameskip-v4), EnvSpec(Frostbite-ram-v0), EnvSpec(Frostbite-ram-v4), EnvSpec(Frostbite-ramDeterministic-v0), EnvSpec(Frostbite-ramDeterministic-v4), EnvSpec(Frostbite-ramNoFrameskip-v0), EnvSpec(Frostbite-ramNoFrameskip-v4), EnvSpec(Gopher-v0), EnvSpec(Gopher-v4), EnvSpec(GopherDeterministic-v0), EnvSpec(GopherDeterministic-v4), EnvSpec(GopherNoFrameskip-v0), EnvSpec(GopherNoFrameskip-v4), EnvSpec(Gopher-ram-v0), EnvSpec(Gopher-ram-v4), EnvSpec(Gopher-ramDeterministic-v0), EnvSpec(Gopher-ramDeterministic-v4), EnvSpec(Gopher-ramNoFrameskip-v0), EnvSpec(Gopher-ramNoFrameskip-v4), EnvSpec(Gravitar-v0), EnvSpec(Gravitar-v4), EnvSpec(GravitarDeterministic-v0), EnvSpec(GravitarDeterministic-v4), EnvSpec(GravitarNoFrameskip-v0), EnvSpec(GravitarNoFrameskip-v4), EnvSpec(Gravitar-ram-v0), EnvSpec(Gravitar-ram-v4), EnvSpec(Gravitar-ramDeterministic-v0), EnvSpec(Gravitar-ramDeterministic-v4), EnvSpec(Gravitar-ramNoFrameskip-v0), EnvSpec(Gravitar-ramNoFrameskip-v4), EnvSpec(Hero-v0), EnvSpec(Hero-v4), EnvSpec(HeroDeterministic-v0), EnvSpec(HeroDeterministic-v4), EnvSpec(HeroNoFrameskip-v0), EnvSpec(HeroNoFrameskip-v4), EnvSpec(Hero-ram-v0), EnvSpec(Hero-ram-v4), EnvSpec(Hero-ramDeterministic-v0), EnvSpec(Hero-ramDeterministic-v4), EnvSpec(Hero-ramNoFrameskip-v0), EnvSpec(Hero-ramNoFrameskip-v4), EnvSpec(IceHockey-v0), EnvSpec(IceHockey-v4), EnvSpec(IceHockeyDeterministic-v0), EnvSpec(IceHockeyDeterministic-v4), EnvSpec(IceHockeyNoFrameskip-v0), EnvSpec(IceHockeyNoFrameskip-v4), EnvSpec(IceHockey-ram-v0), EnvSpec(IceHockey-ram-v4), EnvSpec(IceHockey-ramDeterministic-v0), EnvSpec(IceHockey-ramDeterministic-v4), EnvSpec(IceHockey-ramNoFrameskip-v0), EnvSpec(IceHockey-ramNoFrameskip-v4), EnvSpec(Jamesbond-v0), EnvSpec(Jamesbond-v4), EnvSpec(JamesbondDeterministic-v0), EnvSpec(JamesbondDeterministic-v4), EnvSpec(JamesbondNoFrameskip-v0), EnvSpec(JamesbondNoFrameskip-v4), EnvSpec(Jamesbond-ram-v0), EnvSpec(Jamesbond-ram-v4), EnvSpec(Jamesbond-ramDeterministic-v0), EnvSpec(Jamesbond-ramDeterministic-v4), EnvSpec(Jamesbond-ramNoFrameskip-v0), EnvSpec(Jamesbond-ramNoFrameskip-v4), EnvSpec(JourneyEscape-v0), EnvSpec(JourneyEscape-v4), EnvSpec(JourneyEscapeDeterministic-v0), EnvSpec(JourneyEscapeDeterministic-v4), EnvSpec(JourneyEscapeNoFrameskip-v0), EnvSpec(JourneyEscapeNoFrameskip-v4), EnvSpec(JourneyEscape-ram-v0), EnvSpec(JourneyEscape-ram-v4), EnvSpec(JourneyEscape-ramDeterministic-v0), EnvSpec(JourneyEscape-ramDeterministic-v4), EnvSpec(JourneyEscape-ramNoFrameskip-v0), EnvSpec(JourneyEscape-ramNoFrameskip-v4), EnvSpec(Kangaroo-v0), EnvSpec(Kangaroo-v4), EnvSpec(KangarooDeterministic-v0), EnvSpec(KangarooDeterministic-v4), EnvSpec(KangarooNoFrameskip-v0), EnvSpec(KangarooNoFrameskip-v4), EnvSpec(Kangaroo-ram-v0), EnvSpec(Kangaroo-ram-v4), EnvSpec(Kangaroo-ramDeterministic-v0), EnvSpec(Kangaroo-ramDeterministic-v4), EnvSpec(Kangaroo-ramNoFrameskip-v0), EnvSpec(Kangaroo-ramNoFrameskip-v4), EnvSpec(Krull-v0), EnvSpec(Krull-v4), EnvSpec(KrullDeterministic-v0), EnvSpec(KrullDeterministic-v4), EnvSpec(KrullNoFrameskip-v0), EnvSpec(KrullNoFrameskip-v4), EnvSpec(Krull-ram-v0), EnvSpec(Krull-ram-v4), EnvSpec(Krull-ramDeterministic-v0), EnvSpec(Krull-ramDeterministic-v4), EnvSpec(Krull-ramNoFrameskip-v0), EnvSpec(Krull-ramNoFrameskip-v4), EnvSpec(KungFuMaster-v0), EnvSpec(KungFuMaster-v4), EnvSpec(KungFuMasterDeterministic-v0), EnvSpec(KungFuMasterDeterministic-v4), EnvSpec(KungFuMasterNoFrameskip-v0), EnvSpec(KungFuMasterNoFrameskip-v4), EnvSpec(KungFuMaster-ram-v0), EnvSpec(KungFuMaster-ram-v4), EnvSpec(KungFuMaster-ramDeterministic-v0), EnvSpec(KungFuMaster-ramDeterministic-v4), EnvSpec(KungFuMaster-ramNoFrameskip-v0), EnvSpec(KungFuMaster-ramNoFrameskip-v4), EnvSpec(MontezumaRevenge-v0), EnvSpec(MontezumaRevenge-v4), EnvSpec(MontezumaRevengeDeterministic-v0), EnvSpec(MontezumaRevengeDeterministic-v4), EnvSpec(MontezumaRevengeNoFrameskip-v0), EnvSpec(MontezumaRevengeNoFrameskip-v4), EnvSpec(MontezumaRevenge-ram-v0), EnvSpec(MontezumaRevenge-ram-v4), EnvSpec(MontezumaRevenge-ramDeterministic-v0), EnvSpec(MontezumaRevenge-ramDeterministic-v4), EnvSpec(MontezumaRevenge-ramNoFrameskip-v0), EnvSpec(MontezumaRevenge-ramNoFrameskip-v4), EnvSpec(MsPacman-v0), EnvSpec(MsPacman-v4), EnvSpec(MsPacmanDeterministic-v0), EnvSpec(MsPacmanDeterministic-v4), EnvSpec(MsPacmanNoFrameskip-v0), EnvSpec(MsPacmanNoFrameskip-v4), EnvSpec(MsPacman-ram-v0), EnvSpec(MsPacman-ram-v4), EnvSpec(MsPacman-ramDeterministic-v0), EnvSpec(MsPacman-ramDeterministic-v4), EnvSpec(MsPacman-ramNoFrameskip-v0), EnvSpec(MsPacman-ramNoFrameskip-v4), EnvSpec(NameThisGame-v0), EnvSpec(NameThisGame-v4), EnvSpec(NameThisGameDeterministic-v0), EnvSpec(NameThisGameDeterministic-v4), EnvSpec(NameThisGameNoFrameskip-v0), EnvSpec(NameThisGameNoFrameskip-v4), EnvSpec(NameThisGame-ram-v0), EnvSpec(NameThisGame-ram-v4), EnvSpec(NameThisGame-ramDeterministic-v0), EnvSpec(NameThisGame-ramDeterministic-v4), EnvSpec(NameThisGame-ramNoFrameskip-v0), EnvSpec(NameThisGame-ramNoFrameskip-v4), EnvSpec(Phoenix-v0), EnvSpec(Phoenix-v4), EnvSpec(PhoenixDeterministic-v0), EnvSpec(PhoenixDeterministic-v4), EnvSpec(PhoenixNoFrameskip-v0), EnvSpec(PhoenixNoFrameskip-v4), EnvSpec(Phoenix-ram-v0), EnvSpec(Phoenix-ram-v4), EnvSpec(Phoenix-ramDeterministic-v0), EnvSpec(Phoenix-ramDeterministic-v4), EnvSpec(Phoenix-ramNoFrameskip-v0), EnvSpec(Phoenix-ramNoFrameskip-v4), EnvSpec(Pitfall-v0), EnvSpec(Pitfall-v4), EnvSpec(PitfallDeterministic-v0), EnvSpec(PitfallDeterministic-v4), EnvSpec(PitfallNoFrameskip-v0), EnvSpec(PitfallNoFrameskip-v4), EnvSpec(Pitfall-ram-v0), EnvSpec(Pitfall-ram-v4), EnvSpec(Pitfall-ramDeterministic-v0), EnvSpec(Pitfall-ramDeterministic-v4), EnvSpec(Pitfall-ramNoFrameskip-v0), EnvSpec(Pitfall-ramNoFrameskip-v4), EnvSpec(Pong-v0), EnvSpec(Pong-v4), EnvSpec(PongDeterministic-v0), EnvSpec(PongDeterministic-v4), EnvSpec(PongNoFrameskip-v0), EnvSpec(PongNoFrameskip-v4), EnvSpec(Pong-ram-v0), EnvSpec(Pong-ram-v4), EnvSpec(Pong-ramDeterministic-v0), EnvSpec(Pong-ramDeterministic-v4), EnvSpec(Pong-ramNoFrameskip-v0), EnvSpec(Pong-ramNoFrameskip-v4), EnvSpec(Pooyan-v0), EnvSpec(Pooyan-v4), EnvSpec(PooyanDeterministic-v0), EnvSpec(PooyanDeterministic-v4), EnvSpec(PooyanNoFrameskip-v0), EnvSpec(PooyanNoFrameskip-v4), EnvSpec(Pooyan-ram-v0), EnvSpec(Pooyan-ram-v4), EnvSpec(Pooyan-ramDeterministic-v0), EnvSpec(Pooyan-ramDeterministic-v4), EnvSpec(Pooyan-ramNoFrameskip-v0), EnvSpec(Pooyan-ramNoFrameskip-v4), EnvSpec(PrivateEye-v0), EnvSpec(PrivateEye-v4), EnvSpec(PrivateEyeDeterministic-v0), EnvSpec(PrivateEyeDeterministic-v4), EnvSpec(PrivateEyeNoFrameskip-v0), EnvSpec(PrivateEyeNoFrameskip-v4), EnvSpec(PrivateEye-ram-v0), EnvSpec(PrivateEye-ram-v4), EnvSpec(PrivateEye-ramDeterministic-v0), EnvSpec(PrivateEye-ramDeterministic-v4), EnvSpec(PrivateEye-ramNoFrameskip-v0), EnvSpec(PrivateEye-ramNoFrameskip-v4), EnvSpec(Qbert-v0), EnvSpec(Qbert-v4), EnvSpec(QbertDeterministic-v0), EnvSpec(QbertDeterministic-v4), EnvSpec(QbertNoFrameskip-v0), EnvSpec(QbertNoFrameskip-v4), EnvSpec(Qbert-ram-v0), EnvSpec(Qbert-ram-v4), EnvSpec(Qbert-ramDeterministic-v0), EnvSpec(Qbert-ramDeterministic-v4), EnvSpec(Qbert-ramNoFrameskip-v0), EnvSpec(Qbert-ramNoFrameskip-v4), EnvSpec(Riverraid-v0), EnvSpec(Riverraid-v4), EnvSpec(RiverraidDeterministic-v0), EnvSpec(RiverraidDeterministic-v4), EnvSpec(RiverraidNoFrameskip-v0), EnvSpec(RiverraidNoFrameskip-v4), EnvSpec(Riverraid-ram-v0), EnvSpec(Riverraid-ram-v4), EnvSpec(Riverraid-ramDeterministic-v0), EnvSpec(Riverraid-ramDeterministic-v4), EnvSpec(Riverraid-ramNoFrameskip-v0), EnvSpec(Riverraid-ramNoFrameskip-v4), EnvSpec(RoadRunner-v0), EnvSpec(RoadRunner-v4), EnvSpec(RoadRunnerDeterministic-v0), EnvSpec(RoadRunnerDeterministic-v4), EnvSpec(RoadRunnerNoFrameskip-v0), EnvSpec(RoadRunnerNoFrameskip-v4), EnvSpec(RoadRunner-ram-v0), EnvSpec(RoadRunner-ram-v4), EnvSpec(RoadRunner-ramDeterministic-v0), EnvSpec(RoadRunner-ramDeterministic-v4), EnvSpec(RoadRunner-ramNoFrameskip-v0), EnvSpec(RoadRunner-ramNoFrameskip-v4), EnvSpec(Robotank-v0), EnvSpec(Robotank-v4), EnvSpec(RobotankDeterministic-v0), EnvSpec(RobotankDeterministic-v4), EnvSpec(RobotankNoFrameskip-v0), EnvSpec(RobotankNoFrameskip-v4), EnvSpec(Robotank-ram-v0), EnvSpec(Robotank-ram-v4), EnvSpec(Robotank-ramDeterministic-v0), EnvSpec(Robotank-ramDeterministic-v4), EnvSpec(Robotank-ramNoFrameskip-v0), EnvSpec(Robotank-ramNoFrameskip-v4), EnvSpec(Seaquest-v0), EnvSpec(Seaquest-v4), EnvSpec(SeaquestDeterministic-v0), EnvSpec(SeaquestDeterministic-v4), EnvSpec(SeaquestNoFrameskip-v0), EnvSpec(SeaquestNoFrameskip-v4), EnvSpec(Seaquest-ram-v0), EnvSpec(Seaquest-ram-v4), EnvSpec(Seaquest-ramDeterministic-v0), EnvSpec(Seaquest-ramDeterministic-v4), EnvSpec(Seaquest-ramNoFrameskip-v0), EnvSpec(Seaquest-ramNoFrameskip-v4), EnvSpec(Skiing-v0), EnvSpec(Skiing-v4), EnvSpec(SkiingDeterministic-v0), EnvSpec(SkiingDeterministic-v4), EnvSpec(SkiingNoFrameskip-v0), EnvSpec(SkiingNoFrameskip-v4), EnvSpec(Skiing-ram-v0), EnvSpec(Skiing-ram-v4), EnvSpec(Skiing-ramDeterministic-v0), EnvSpec(Skiing-ramDeterministic-v4), EnvSpec(Skiing-ramNoFrameskip-v0), EnvSpec(Skiing-ramNoFrameskip-v4), EnvSpec(Solaris-v0), EnvSpec(Solaris-v4), EnvSpec(SolarisDeterministic-v0), EnvSpec(SolarisDeterministic-v4), EnvSpec(SolarisNoFrameskip-v0), EnvSpec(SolarisNoFrameskip-v4), EnvSpec(Solaris-ram-v0), EnvSpec(Solaris-ram-v4), EnvSpec(Solaris-ramDeterministic-v0), EnvSpec(Solaris-ramDeterministic-v4), EnvSpec(Solaris-ramNoFrameskip-v0), EnvSpec(Solaris-ramNoFrameskip-v4), EnvSpec(SpaceInvaders-v0), EnvSpec(SpaceInvaders-v4), EnvSpec(SpaceInvadersDeterministic-v0), EnvSpec(SpaceInvadersDeterministic-v4), EnvSpec(SpaceInvadersNoFrameskip-v0), EnvSpec(SpaceInvadersNoFrameskip-v4), EnvSpec(SpaceInvaders-ram-v0), EnvSpec(SpaceInvaders-ram-v4), EnvSpec(SpaceInvaders-ramDeterministic-v0), EnvSpec(SpaceInvaders-ramDeterministic-v4), EnvSpec(SpaceInvaders-ramNoFrameskip-v0), EnvSpec(SpaceInvaders-ramNoFrameskip-v4), EnvSpec(StarGunner-v0), EnvSpec(StarGunner-v4), EnvSpec(StarGunnerDeterministic-v0), EnvSpec(StarGunnerDeterministic-v4), EnvSpec(StarGunnerNoFrameskip-v0), EnvSpec(StarGunnerNoFrameskip-v4), EnvSpec(StarGunner-ram-v0), EnvSpec(StarGunner-ram-v4), EnvSpec(StarGunner-ramDeterministic-v0), EnvSpec(StarGunner-ramDeterministic-v4), EnvSpec(StarGunner-ramNoFrameskip-v0), EnvSpec(StarGunner-ramNoFrameskip-v4), EnvSpec(Tennis-v0), EnvSpec(Tennis-v4), EnvSpec(TennisDeterministic-v0), EnvSpec(TennisDeterministic-v4), EnvSpec(TennisNoFrameskip-v0), EnvSpec(TennisNoFrameskip-v4), EnvSpec(Tennis-ram-v0), EnvSpec(Tennis-ram-v4), EnvSpec(Tennis-ramDeterministic-v0), EnvSpec(Tennis-ramDeterministic-v4), EnvSpec(Tennis-ramNoFrameskip-v0), EnvSpec(Tennis-ramNoFrameskip-v4), EnvSpec(TimePilot-v0), EnvSpec(TimePilot-v4), EnvSpec(TimePilotDeterministic-v0), EnvSpec(TimePilotDeterministic-v4), EnvSpec(TimePilotNoFrameskip-v0), EnvSpec(TimePilotNoFrameskip-v4), EnvSpec(TimePilot-ram-v0), EnvSpec(TimePilot-ram-v4), EnvSpec(TimePilot-ramDeterministic-v0), EnvSpec(TimePilot-ramDeterministic-v4), EnvSpec(TimePilot-ramNoFrameskip-v0), EnvSpec(TimePilot-ramNoFrameskip-v4), EnvSpec(Tutankham-v0), EnvSpec(Tutankham-v4), EnvSpec(TutankhamDeterministic-v0), EnvSpec(TutankhamDeterministic-v4), EnvSpec(TutankhamNoFrameskip-v0), EnvSpec(TutankhamNoFrameskip-v4), EnvSpec(Tutankham-ram-v0), EnvSpec(Tutankham-ram-v4), EnvSpec(Tutankham-ramDeterministic-v0), EnvSpec(Tutankham-ramDeterministic-v4), EnvSpec(Tutankham-ramNoFrameskip-v0), EnvSpec(Tutankham-ramNoFrameskip-v4), EnvSpec(UpNDown-v0), EnvSpec(UpNDown-v4), EnvSpec(UpNDownDeterministic-v0), EnvSpec(UpNDownDeterministic-v4), EnvSpec(UpNDownNoFrameskip-v0), EnvSpec(UpNDownNoFrameskip-v4), EnvSpec(UpNDown-ram-v0), EnvSpec(UpNDown-ram-v4), EnvSpec(UpNDown-ramDeterministic-v0), EnvSpec(UpNDown-ramDeterministic-v4), EnvSpec(UpNDown-ramNoFrameskip-v0), EnvSpec(UpNDown-ramNoFrameskip-v4), EnvSpec(Venture-v0), EnvSpec(Venture-v4), EnvSpec(VentureDeterministic-v0), EnvSpec(VentureDeterministic-v4), EnvSpec(VentureNoFrameskip-v0), EnvSpec(VentureNoFrameskip-v4), EnvSpec(Venture-ram-v0), EnvSpec(Venture-ram-v4), EnvSpec(Venture-ramDeterministic-v0), EnvSpec(Venture-ramDeterministic-v4), EnvSpec(Venture-ramNoFrameskip-v0), EnvSpec(Venture-ramNoFrameskip-v4), EnvSpec(VideoPinball-v0), EnvSpec(VideoPinball-v4), EnvSpec(VideoPinballDeterministic-v0), EnvSpec(VideoPinballDeterministic-v4), EnvSpec(VideoPinballNoFrameskip-v0), EnvSpec(VideoPinballNoFrameskip-v4), EnvSpec(VideoPinball-ram-v0), EnvSpec(VideoPinball-ram-v4), EnvSpec(VideoPinball-ramDeterministic-v0), EnvSpec(VideoPinball-ramDeterministic-v4), EnvSpec(VideoPinball-ramNoFrameskip-v0), EnvSpec(VideoPinball-ramNoFrameskip-v4), EnvSpec(WizardOfWor-v0), EnvSpec(WizardOfWor-v4), EnvSpec(WizardOfWorDeterministic-v0), EnvSpec(WizardOfWorDeterministic-v4), EnvSpec(WizardOfWorNoFrameskip-v0), EnvSpec(WizardOfWorNoFrameskip-v4), EnvSpec(WizardOfWor-ram-v0), EnvSpec(WizardOfWor-ram-v4), EnvSpec(WizardOfWor-ramDeterministic-v0), EnvSpec(WizardOfWor-ramDeterministic-v4), EnvSpec(WizardOfWor-ramNoFrameskip-v0), EnvSpec(WizardOfWor-ramNoFrameskip-v4), EnvSpec(YarsRevenge-v0), EnvSpec(YarsRevenge-v4), EnvSpec(YarsRevengeDeterministic-v0), EnvSpec(YarsRevengeDeterministic-v4), EnvSpec(YarsRevengeNoFrameskip-v0), EnvSpec(YarsRevengeNoFrameskip-v4), EnvSpec(YarsRevenge-ram-v0), EnvSpec(YarsRevenge-ram-v4), EnvSpec(YarsRevenge-ramDeterministic-v0), EnvSpec(YarsRevenge-ramDeterministic-v4), EnvSpec(YarsRevenge-ramNoFrameskip-v0), EnvSpec(YarsRevenge-ramNoFrameskip-v4), EnvSpec(Zaxxon-v0), EnvSpec(Zaxxon-v4), EnvSpec(ZaxxonDeterministic-v0), EnvSpec(ZaxxonDeterministic-v4), EnvSpec(ZaxxonNoFrameskip-v0), EnvSpec(ZaxxonNoFrameskip-v4), EnvSpec(Zaxxon-ram-v0), EnvSpec(Zaxxon-ram-v4), EnvSpec(Zaxxon-ramDeterministic-v0), EnvSpec(Zaxxon-ramDeterministic-v4), EnvSpec(Zaxxon-ramNoFrameskip-v0), EnvSpec(Zaxxon-ramNoFrameskip-v4), EnvSpec(CubeCrash-v0), EnvSpec(CubeCrashSparse-v0), EnvSpec(CubeCrashScreenBecomesBlack-v0), EnvSpec(MemorizeDigits-v0)])\n"
     ]
    }
   ],
   "source": [
    "from gym import envs\n",
    "import gym\n",
    "import numpy as np\n",
    "print(envs.registry.all())"
   ]
  },
  {
   "cell_type": "markdown",
   "metadata": {},
   "source": [
    "### GYM数值空间"
   ]
  },
  {
   "cell_type": "code",
   "execution_count": 2,
   "metadata": {},
   "outputs": [
    {
     "name": "stdout",
     "output_type": "stream",
     "text": [
      "Discrete(2)\n"
     ]
    },
    {
     "data": {
      "text/plain": [
       "0"
      ]
     },
     "execution_count": 2,
     "metadata": {},
     "output_type": "execute_result"
    }
   ],
   "source": [
    "env=gym.make(\"CartPole-v0\")\n",
    "\n",
    "#查看动作空间\n",
    "print(env.action_space)\n",
    "\n",
    "#随机选取动作\n",
    "env.action_space.sample()"
   ]
  },
  {
   "cell_type": "markdown",
   "metadata": {},
   "source": [
    "### 查看环境空间"
   ]
  },
  {
   "cell_type": "code",
   "execution_count": 3,
   "metadata": {},
   "outputs": [
    {
     "name": "stdout",
     "output_type": "stream",
     "text": [
      "Box([-4.8000002e+00 -3.4028235e+38 -4.1887903e-01 -3.4028235e+38], [4.8000002e+00 3.4028235e+38 4.1887903e-01 3.4028235e+38], (4,), float32)\n",
      "[4.8000002e+00 3.4028235e+38 4.1887903e-01 3.4028235e+38]\n",
      "[-4.8000002e+00 -3.4028235e+38 -4.1887903e-01 -3.4028235e+38]\n"
     ]
    }
   ],
   "source": [
    "print(env.observation_space)\n",
    "\n",
    "#查看环境空间取值范围\n",
    "print(env.observation_space.high)\n",
    "print(env.observation_space.low)"
   ]
  },
  {
   "cell_type": "markdown",
   "metadata": {},
   "source": [
    "### CartPole环境\n",
    "* 每个观测是包含四个浮点的 1D Numpy 向量\n",
    "    * 小车的水平位置（0 为中心）\n",
    "    * 小车的速度\n",
    "    * 杆的角度（垂直）\n",
    "    * 杆的角速度"
   ]
  },
  {
   "cell_type": "code",
   "execution_count": 4,
   "metadata": {},
   "outputs": [
    {
     "data": {
      "text/plain": [
       "array([ 0.00284395, -0.01242044, -0.01232633,  0.00926808])"
      ]
     },
     "execution_count": 4,
     "metadata": {},
     "output_type": "execute_result"
    }
   ],
   "source": [
    "#1.创建环境\n",
    "env = gym.make('CartPole-v0')\n",
    "#2.初始化环境，返回观察值\n",
    "obs = env.reset()\n",
    "obs"
   ]
  },
  {
   "cell_type": "code",
   "execution_count": 5,
   "metadata": {},
   "outputs": [
    {
     "name": "stdout",
     "output_type": "stream",
     "text": [
      "next_state:  [ 0.00259554 -0.20736347 -0.01214097  0.29803656]\n",
      "reward:  1.0\n",
      "done:  False\n",
      "info:  {}\n"
     ]
    }
   ],
   "source": [
    "#3.CartPole动作定义 0: 向左推小车 1: 向右推小车\n",
    "next_state, reward, done, info = env.step(0)\n",
    "print(\"next_state: \",next_state)\n",
    "print(\"reward: \",reward)\n",
    "print(\"done: \",done)\n",
    "print(\"info: \",info)"
   ]
  },
  {
   "cell_type": "markdown",
   "metadata": {},
   "source": [
    "### CartPole-v0示例"
   ]
  },
  {
   "cell_type": "code",
   "execution_count": 6,
   "metadata": {},
   "outputs": [
    {
     "name": "stdout",
     "output_type": "stream",
     "text": [
      "[ 0.03064465 -0.21867458  0.04810884  0.2716269 ]\n",
      "[ 0.02627116 -0.02427095  0.05354138 -0.00550261]\n",
      "[ 0.02578574  0.17004389  0.05343132 -0.28082354]\n",
      "[ 0.02918662 -0.02579791  0.04781485  0.02822126]\n",
      "[ 0.02867066 -0.22157179  0.04837928  0.33559866]\n",
      "[ 0.02423922 -0.41734767  0.05509125  0.64313684]\n",
      "[ 0.01589227 -0.61319245  0.06795399  0.95264695]\n",
      "[ 0.00362842 -0.80915973  0.08700693  1.26588254]\n",
      "[-0.01255477 -1.00527898  0.11232458  1.5844964 ]\n",
      "[-0.03266035 -1.20154334  0.14401451  1.90999175]\n",
      "[-0.05669122 -1.00823887  0.18221434  1.66523078]\n",
      "[-0.076856   -1.20495371  0.21551896  2.00869315]\n",
      "done == True : 12\n",
      "[-0.04492946 -0.20181254  0.02572306  0.27735695]\n",
      "[-0.04896571 -0.39729184  0.0312702   0.57804065]\n",
      "[-0.05691154 -0.59283778  0.04283101  0.88040811]\n",
      "[-0.0687683  -0.78851461  0.06043918  1.18624264]\n",
      "[-0.08453859 -0.59422628  0.08416403  0.91310057]\n",
      "[-0.09642312 -0.40033755  0.10242604  0.64801195]\n",
      "[-0.10442987 -0.59672607  0.11538628  0.97111147]\n",
      "[-0.11636439 -0.79319171  0.13480851  1.29769863]\n",
      "[-0.13222822 -0.60001428  0.16076248  1.05007528]\n",
      "[-0.14422851 -0.79686103  0.18176399  1.38859889]\n",
      "[-0.16016573 -0.99372198  0.20953596  1.73217063]\n",
      "done == True : 11\n",
      "[-0.03076868  0.19148088  0.00083783 -0.32087094]\n",
      "[-0.02693906  0.38659088 -0.00557959 -0.61328953]\n",
      "[-0.01920725  0.58179036 -0.01784538 -0.90772458]\n",
      "[-0.00757144  0.77714929 -0.03599987 -1.20596258]\n",
      "[ 0.00797155  0.97271748 -0.06011913 -1.50970647]\n",
      "[ 0.0274259   1.16851423 -0.09031326 -1.82053539]\n",
      "[ 0.05079618  1.36451609 -0.12672396 -2.13985598]\n",
      "[ 0.0780865   1.17085389 -0.16952108 -1.88884929]\n",
      "[ 0.10150358  1.36736421 -0.20729807 -2.22899034]\n",
      "[ 0.12885087  1.56376828 -0.25187788 -2.57779917]\n",
      "done == True : 10\n",
      "[ 0.01384406 -0.15150111  0.04280592  0.31827882]\n",
      "[ 0.01081404 -0.34720576  0.0491715   0.62414798]\n",
      "[ 0.00386993 -0.54297848  0.06165446  0.93190272]\n",
      "[-0.00698964 -0.73887578  0.08029251  1.24330528]\n",
      "[-0.02176716 -0.93493106  0.10515862  1.56002139]\n",
      "[-0.04046578 -0.74121309  0.13635905  1.30190929]\n",
      "[-0.05529004 -0.93777592  0.16239723  1.63398208]\n",
      "[-0.07404556 -1.13438891  0.19507687  1.97255638]\n",
      "[-0.09673334 -0.9417879   0.234528    1.74612406]\n",
      "done == True : 9\n",
      "[ 0.0199825   0.19554876 -0.01026296 -0.25273779]\n",
      "[ 0.02389348  0.00057485 -0.01531772  0.03669042]\n",
      "[ 0.02390497 -0.19432413 -0.01458391  0.32450136]\n",
      "[ 0.02001849  0.00100241 -0.00809389  0.02725519]\n",
      "[ 0.02003854 -0.19400254 -0.00754878  0.31737346]\n",
      "[ 0.01615849  0.00122611 -0.00120131  0.0223195 ]\n",
      "[ 0.01618301 -0.19387859 -0.00075492  0.31462316]\n",
      "[ 0.01230544 -0.38898978  0.00553754  0.60706791]\n",
      "[ 0.00452564 -0.58418872  0.0176789   0.90148986]\n",
      "[-0.00715813 -0.3893107   0.0357087   0.61441583]\n",
      "[-0.01494435 -0.19470543  0.04799701  0.33319014]\n",
      "[-0.01883845 -0.3904765   0.05466082  0.64061426]\n",
      "[-0.02664798 -0.19615747  0.0674731   0.36563333]\n",
      "[-0.03057113 -0.39217016  0.07478577  0.67880538]\n",
      "[-0.03841454 -0.58824697  0.08836188  0.99406503]\n",
      "[-0.05017948 -0.39441105  0.10824318  0.73039009]\n",
      "[-0.0580677  -0.20093836  0.12285098  0.47364091]\n",
      "[-0.06208646 -0.00774605  0.1323238   0.2220639 ]\n",
      "[-0.06224139 -0.2044867   0.13676507  0.55338477]\n",
      "[-0.06633112 -0.01152352  0.14783277  0.30672646]\n",
      "[-0.06656159  0.1812166   0.1539673   0.06407442]\n",
      "[-0.06293726  0.3738343   0.15524879 -0.1763465 ]\n",
      "[-0.05546057  0.17687073  0.15172186  0.16100558]\n",
      "[-0.05192316 -0.02006091  0.15494197  0.49744489]\n",
      "[-0.05232438  0.17257591  0.16489087  0.25732209]\n",
      "[-0.04887286 -0.02446912  0.17003731  0.59713917]\n",
      "[-0.04936224  0.16791675  0.18198009  0.36247254]\n",
      "[-0.0460039   0.36004883  0.18922954  0.13224069]\n",
      "[-0.03880293  0.16279127  0.19187436  0.47814736]\n",
      "[-0.0355471   0.35476023  0.2014373   0.25154386]\n",
      "[-0.0284519   0.15741727  0.20646818  0.60039575]\n",
      "[-0.02530355  0.34914412  0.2184761   0.37918488]\n",
      "done == True : 32\n",
      "[-0.02508609 -0.19265923 -0.03060676  0.27491918]\n",
      "[-0.02893927  0.00288574 -0.02510838 -0.02725787]\n",
      "[-0.02888156  0.1983586  -0.02565353 -0.32775583]\n",
      "[-0.02491439  0.3938362  -0.03220865 -0.62841706]\n",
      "[-0.01703766  0.19917821 -0.04477699 -0.34604923]\n",
      "[-0.0130541   0.39490754 -0.05169798 -0.65250899]\n",
      "[-0.00515595  0.20054221 -0.06474816 -0.37654295]\n",
      "[-0.0011451   0.00639677 -0.07227902 -0.10495768]\n",
      "[-0.00101717 -0.18761894 -0.07437817  0.1640745 ]\n",
      "[-0.00476955  0.00848459 -0.07109668 -0.15111454]\n",
      "[-0.00459985 -0.1855511  -0.07411897  0.11831888]\n",
      "[-0.00831088  0.01055024 -0.07175259 -0.19679655]\n",
      "[-0.00809987 -0.18347595 -0.07568852  0.07241668]\n",
      "[-0.01176939  0.01264491 -0.07424019 -0.24315354]\n",
      "[-0.01151649 -0.18134243 -0.07910326  0.02521937]\n",
      "[-0.01514334 -0.3752461  -0.07859887  0.29193326]\n",
      "[-0.02264826 -0.17909658 -0.07276021 -0.02446695]\n",
      "[-0.02623019  0.01698932 -0.07324955 -0.3391902 ]\n",
      "[-0.02589041  0.21307296 -0.08003335 -0.65404307]\n",
      "[-0.02162895  0.01915124 -0.09311421 -0.38759629]\n",
      "[-0.02124592 -0.17453413 -0.10086614 -0.12566283]\n",
      "[-0.02473661 -0.36807726 -0.1033794   0.1335719 ]\n",
      "[-0.03209815 -0.17163811 -0.10070796 -0.18985312]\n",
      "[-0.03553091 -0.36518589 -0.10450502  0.06943946]\n",
      "[-0.04283463 -0.16873298 -0.10311623 -0.25430081]\n",
      "[-0.04620929  0.02769856 -0.10820225 -0.57764551]\n",
      "[-0.04565532 -0.16575377 -0.11975516 -0.32091344]\n",
      "[-0.0489704  -0.35898483 -0.12617343 -0.06826667]\n",
      "[-0.05615009 -0.55209323 -0.12753876  0.18209667]\n",
      "[-0.06719196 -0.74518141 -0.12389683  0.4319817 ]\n",
      "[-0.08209558 -0.93835126 -0.11525719  0.68318285]\n",
      "[-0.10086261 -0.74183349 -0.10159353  0.35655133]\n",
      "[-0.11569928 -0.93537537 -0.09446251  0.61555008]\n",
      "[-0.13440679 -0.73906939 -0.08215151  0.2946732 ]\n",
      "[-0.14918818 -0.54287817 -0.07625804 -0.02274651]\n",
      "[-0.16004574 -0.73682838 -0.07671297  0.24493515]\n",
      "[-0.17478231 -0.54069933 -0.07181427 -0.07092469]\n",
      "[-0.18559629 -0.34462522 -0.07323276 -0.38537304]\n",
      "[-0.1924888  -0.14854416 -0.08094022 -0.70021747]\n",
      "[-0.19545968 -0.3424563  -0.09494457 -0.43407198]\n",
      "[-0.20230881 -0.1461274  -0.10362601 -0.75511075]\n",
      "[-0.20523135  0.05025878 -0.11872823 -1.07852135]\n",
      "[-0.20422618 -0.1431123  -0.14029866 -0.82533086]\n",
      "[-0.20708842 -0.3360653  -0.15680527 -0.57985782]\n",
      "[-0.21380973 -0.13913385 -0.16840243 -0.9175429 ]\n",
      "[-0.21659241 -0.33162805 -0.18675329 -0.68216282]\n",
      "[-0.22322497 -0.52373325 -0.20039654 -0.45360231]\n",
      "[-0.23369963 -0.7155414  -0.20946859 -0.23017091]\n",
      "done == True : 48\n",
      "[-0.01854432  0.18570072  0.02750189 -0.25301027]\n",
      "[-0.01483031 -0.00980291  0.02244169  0.04821883]\n",
      "[-0.01502637 -0.20523935  0.02340606  0.34789697]\n",
      "[-0.01913116 -0.010458    0.030364    0.06268572]\n",
      "[-0.01934032  0.18421574  0.03161772 -0.22026464]\n",
      "[-0.015656    0.37887181  0.02721242 -0.50280876]\n",
      "[-0.00807856  0.18337709  0.01715625 -0.20167578]\n",
      "[-0.00441102 -0.01198597  0.01312273  0.09636938]\n",
      "[-0.00465074  0.18294547  0.01505012 -0.19214463]\n",
      "[-0.00099183  0.37784892  0.01120723 -0.48004213]\n",
      "[ 0.00656515  0.57281089  0.00160639 -0.76917186]\n",
      "[ 0.01802136  0.37766686 -0.01377705 -0.47598392]\n",
      "[ 0.0255747   0.18274213 -0.02329673 -0.1876749 ]\n",
      "[ 0.02922954  0.37818951 -0.02705023 -0.48761503]\n",
      "[ 0.03679333  0.18345946 -0.03680253 -0.20357861]\n",
      "[ 0.04046252 -0.01111738 -0.0408741   0.07727152]\n",
      "[ 0.04024018 -0.20563026 -0.03932867  0.35678351]\n",
      "[ 0.03612757 -0.40017164 -0.032193    0.63681028]\n",
      "[ 0.02812414 -0.20461587 -0.01945679  0.33416551]\n",
      "[ 0.02403182 -0.39945558 -0.01277348  0.62064981]\n",
      "[ 0.01604271 -0.20415759 -0.00036049  0.32397142]\n",
      "[ 0.01195956 -0.39927441  0.00611894  0.61654065]\n",
      "[ 0.00397407 -0.20423847  0.01844975  0.32579118]\n",
      "[-1.10701361e-04 -3.99618185e-01  2.49655774e-02  6.24234789e-01]\n",
      "[-0.00810307 -0.59507963  0.03745027  0.92467471]\n",
      "[-0.02000466 -0.79068687  0.05594377  1.22888764]\n",
      "[-0.0358184  -0.59632764  0.08052152  0.95424379]\n",
      "[-0.04774495 -0.40237586  0.0996064   0.68790651]\n",
      "[-0.05579247 -0.5987289   0.11336453  1.01021208]\n",
      "[-0.06776704 -0.40528737  0.13356877  0.75517012]\n",
      "[-0.07587279 -0.60197287  0.14867217  1.08672309]\n",
      "[-0.08791225 -0.7987092   0.17040663  1.42212096]\n",
      "[-0.10388643 -0.99547933  0.19884905  1.76285853]\n",
      "[-0.12379602 -1.19221782  0.23410622  2.11022815]\n",
      "done == True : 34\n",
      "[-0.03988641  0.18575377 -0.00759057 -0.33671734]\n",
      "[-0.03617133  0.38098292 -0.01432492 -0.63178423]\n",
      "[-0.02855167  0.57630177 -0.02696061 -0.92894383]\n",
      "[-0.01702564  0.7717771  -0.04553948 -1.22997573]\n",
      "[-0.0015901   0.57726965 -0.070139   -0.95190102]\n",
      "[ 0.0099553   0.77326182 -0.08917702 -1.26577039]\n",
      "[ 0.02542053  0.57938533 -0.11449243 -1.00229457]\n",
      "[ 0.03700824  0.38596381 -0.13453832 -0.74764908]\n",
      "[ 0.04472752  0.58265994 -0.1494913  -1.07946212]\n",
      "[ 0.05638072  0.38979384 -0.17108054 -0.83717645]\n",
      "[ 0.06417659  0.58678755 -0.18782407 -1.17840594]\n",
      "[ 0.07591234  0.39453385 -0.21139219 -0.94999337]\n",
      "done == True : 12\n",
      "[ 0.03150744  0.20953752 -0.02866554 -0.33037286]\n",
      "[ 0.03569819  0.40505555 -0.035273   -0.63195593]\n",
      "[ 0.0437993   0.60065141 -0.04791211 -0.93553533]\n",
      "[ 0.05581233  0.40620727 -0.06662282 -0.65828461]\n",
      "[ 0.06393648  0.21207278 -0.07978851 -0.38730151]\n",
      "[ 0.06817793  0.40823132 -0.08753454 -0.70403617]\n",
      "[ 0.07634256  0.60445023 -0.10161527 -1.02293995]\n",
      "[ 0.08843156  0.80076811 -0.12207407 -1.34572124]\n",
      "[ 0.10444693  0.99719517 -0.14898849 -1.67396989]\n",
      "[ 0.12439083  0.80408399 -0.18246789 -1.43115287]\n",
      "[ 0.14047251  0.61162229 -0.21109095 -1.20060131]\n",
      "done == True : 11\n",
      "[-0.00670802 -0.16837918 -0.02583651  0.31861053]\n",
      "[-0.01007561  0.02710104 -0.0194643   0.01789297]\n",
      "[-0.00953359 -0.16773644 -0.01910644  0.30437169]\n",
      "[-0.01288831 -0.36258097 -0.013019    0.59096819]\n",
      "[-0.02013993 -0.55751825 -0.00119964  0.87952185]\n",
      "[-0.0312903  -0.75262388  0.0163908   1.17182739]\n",
      "[-0.04634278 -0.55771883  0.03982734  0.88432776]\n",
      "[-0.05749715 -0.75335828  0.0575139   1.18926037]\n",
      "[-0.07256432 -0.94917659  0.08129911  1.49940193]\n",
      "[-0.09154785 -0.75513097  0.11128714  1.2331705 ]\n",
      "[-0.10665047 -0.95149382  0.13595055  1.55854364]\n",
      "[-0.12568035 -1.14795632  0.16712143  1.89036469]\n",
      "[-0.14863947 -1.34445289  0.20492872  2.22990837]\n",
      "[-0.17552853 -1.54084991  0.24952689  2.57816787]\n",
      "done == True : 14\n",
      "[ 0.02940104  0.17056263  0.04342915 -0.31909071]\n",
      "[ 0.0328123   0.36504002  0.03704733 -0.59776758]\n",
      "[ 0.0401131   0.16941979  0.02509198 -0.29364916]\n",
      "[ 0.04350149 -0.02605075  0.019219    0.00684063]\n",
      "[ 0.04298048  0.16879037  0.01935581 -0.27971705]\n",
      "[ 0.04635628  0.36363094  0.01376147 -0.5662329 ]\n",
      "[ 0.0536289   0.55855716  0.00243681 -0.8545488 ]\n",
      "[ 0.06480005  0.75364582 -0.01465416 -1.14646449]\n",
      "[ 0.07987296  0.94895604 -0.03758345 -1.44370654]\n",
      "[ 0.09885208  1.14451988 -0.06645758 -1.74789208]\n",
      "[ 0.12174248  0.95021298 -0.10141543 -1.47659928]\n",
      "[ 0.14074674  0.75646548 -0.13094741 -1.21723633]\n",
      "[ 0.15587605  0.95301007 -0.15529214 -1.54791779]\n",
      "[ 0.17493625  0.7600558  -0.18625049 -1.30744189]\n",
      "[ 0.19013737  0.95698459 -0.21239933 -1.652168  ]\n",
      "done == True : 15\n",
      "[ 0.04092153  0.16601249  0.00542829 -0.3101906 ]\n",
      "[ 0.04424178  0.36105668 -0.00077552 -0.60115666]\n",
      "[ 0.05146291  0.16594559 -0.01279865 -0.30871811]\n",
      "[ 0.05478182  0.36124754 -0.01897301 -0.60540975]\n",
      "[ 0.06200678  0.16639597 -0.03108121 -0.31876273]\n",
      "[ 0.06533469  0.36194649 -0.03745646 -0.62108324]\n",
      "[ 0.07257362  0.55757095 -0.04987813 -0.92532374]\n",
      "[ 0.08372504  0.75332979 -0.0683846  -1.2332549 ]\n",
      "[ 0.09879164  0.55915046 -0.0930497  -0.96275612]\n",
      "[ 0.10997465  0.75539121 -0.11230482 -1.28316098]\n",
      "[ 0.12508247  0.95174979 -0.13796804 -1.60879165]\n",
      "[ 0.14411747  0.75850167 -0.17014388 -1.36210802]\n",
      "[ 0.1592875   0.56587063 -0.19738604 -1.12711503]\n",
      "[ 0.17060491  0.76295279 -0.21992834 -1.47465341]\n",
      "done == True : 14\n",
      "[ 0.02639529  0.20513889 -0.00618885 -0.27870682]\n",
      "[ 0.03049806  0.01010577 -0.01176299  0.01201774]\n",
      "[ 0.03070018  0.20539443 -0.01152263 -0.28435321]\n",
      "[ 0.03480807  0.0104387  -0.0172097   0.00467339]\n",
      "[ 0.03501684 -0.18443227 -0.01711623  0.29187715]\n",
      "[ 0.0313282   0.0109295  -0.01127869 -0.0061545 ]\n",
      "[ 0.03154679 -0.1840289  -0.01140178  0.28294863]\n",
      "[ 0.02786621 -0.37898638 -0.0057428   0.5720138 ]\n",
      "[ 0.02028648 -0.57402734  0.00569747  0.86288204]\n",
      "[ 0.00880593 -0.7692264   0.02295511  1.15735092]\n",
      "[-0.00657859 -0.57441106  0.04610213  0.87195311]\n",
      "[-0.01806682 -0.77012864  0.06354119  1.17876678]\n",
      "[-0.03346939 -0.96601555  0.08711653  1.49067271]\n",
      "[-0.0527897  -1.16208334  0.11692998  1.80923897]\n",
      "[-0.07603137 -0.96844337  0.15311476  1.55506156]\n",
      "[-0.09540023 -1.16503262  0.184216    1.89133559]\n",
      "[-0.11870089 -1.36161523  0.22204271  2.23507398]\n",
      "done == True : 17\n",
      "[ 0.02124648 -0.16504719  0.04684602  0.3486307 ]\n",
      "[ 0.01794554 -0.36080304  0.05381863  0.65571002]\n",
      "[ 0.01072948 -0.55663131  0.06693283  0.96484217]\n",
      "[-4.03146202e-04 -3.62469215e-01  8.62296743e-02  6.93914736e-01]\n",
      "[-0.00765253 -0.16864254  0.10010797  0.42957508]\n",
      "[-0.01102538 -0.36502909  0.10869947  0.75206266]\n",
      "[-0.01832596 -0.17156054  0.12374072  0.49546736]\n",
      "[-0.02175717  0.02161908  0.13365007  0.24420055]\n",
      "[-0.02132479  0.21460405  0.13853408 -0.00351914]\n",
      "[-0.01703271  0.01779525  0.1384637   0.32946463]\n",
      "[-0.01667681 -0.17899826  0.14505299  0.66240807]\n",
      "[-0.02025677  0.01383955  0.15830115  0.41868525]\n",
      "[-0.01997998 -0.18312982  0.16667486  0.7567915 ]\n",
      "[-0.02364258 -0.3801087   0.18181069  1.09694102]\n",
      "[-0.03124475 -0.57709751  0.20374951  1.44071241]\n",
      "[-0.0427867  -0.77406152  0.23256376  1.7895358 ]\n",
      "done == True : 16\n",
      "[-0.001216   -0.19651989 -0.00857976  0.32228073]\n",
      "[-0.0051464  -0.39151862 -0.00213415  0.61224564]\n",
      "[-0.01297677 -0.58661068  0.01011076  0.90425562]\n",
      "[-0.02470899 -0.39162712  0.02819588  0.61476774]\n",
      "[-0.03254153 -0.19691025  0.04049123  0.33109702]\n",
      "[-0.03647974 -0.00238736  0.04711317  0.05145302]\n",
      "[-0.03652748 -0.19815209  0.04814223  0.35862043]\n",
      "[-0.04049052 -0.39392419  0.05531464  0.66608669]\n",
      "[-0.04836901 -0.58977009  0.06863637  0.97566044]\n",
      "[-0.06016441 -0.39563252  0.08814958  0.705303  ]\n",
      "[-0.06807706 -0.59185812  0.10225564  1.02438102]\n",
      "[-0.07991422 -0.39823558  0.12274326  0.7654751 ]\n",
      "[-0.08787893 -0.59481462  0.13805277  1.09412118]\n",
      "[-0.09977523 -0.40175428  0.15993519  0.84774461]\n",
      "[-0.10781031 -0.59865397  0.17689008  1.18614551]\n",
      "[-0.11978339 -0.40621078  0.20061299  0.95372003]\n",
      "[-0.12790761 -0.21427019  0.21968739  0.73016871]\n",
      "done == True : 17\n",
      "[ 0.00671648 -0.17646962 -0.05010887  0.25360965]\n",
      "[ 0.00318709 -0.37084161 -0.04503668  0.53007581]\n",
      "[-0.00422974 -0.56530204 -0.03443516  0.80823439]\n",
      "[-0.01553578 -0.75993559 -0.01827047  1.0898897 ]\n",
      "[-0.03073449 -0.95481199  0.00352732  1.37678429]\n",
      "[-0.04983073 -0.75973428  0.03106301  1.08520658]\n",
      "[-0.06502542 -0.95525195  0.05276714  1.38747265]\n",
      "[-0.08413046 -0.76082587  0.08051659  1.1117458 ]\n",
      "[-0.09934697 -0.56684849  0.10275151  0.84536868]\n",
      "[-0.11068394 -0.3732673   0.11965888  0.58668422]\n",
      "[-0.11814929 -0.18000652  0.13139257  0.33396177]\n",
      "[-0.12174942  0.01302449  0.1380718   0.08542937]\n",
      "[-0.12148893  0.20592497  0.13978039 -0.1607034 ]\n",
      "[-0.11737043  0.39879784  0.13656632 -0.40622921]\n",
      "[-0.10939448  0.59174573  0.12844174 -0.65293052]\n",
      "[-0.09755956  0.78486727  0.11538313 -0.9025685 ]\n",
      "[-0.08186222  0.58838725  0.09733176 -0.57596072]\n",
      "[-0.07009447  0.39204534  0.08581254 -0.25427141]\n",
      "[-0.06225356  0.19580963  0.08072711  0.06419698]\n",
      "[-0.05833737  0.38968693  0.08201105 -0.20196388]\n",
      "[-0.05054363  0.58354606  0.07797178 -0.467691  ]\n",
      "[-0.03887271  0.77748483  0.06861796 -0.73481482]\n",
      "[-0.02332301  0.58148542  0.05392166 -0.42134972]\n",
      "[-0.01169331  0.38564261  0.04549466 -0.11216718]\n",
      "[-0.00398045  0.18989928  0.04325132  0.19451482]\n",
      "[-1.82468178e-04 -5.81381268e-03  4.71416172e-02  5.00521849e-01]\n",
      "[-0.00029874  0.18861299  0.05715205  0.22306016]\n",
      "[ 0.00347352  0.38287347  0.06161326 -0.05106125]\n",
      "[ 0.01113098  0.57706032  0.06059203 -0.32368598]\n",
      "[ 0.02267219  0.7712695   0.05411831 -0.59666199]\n",
      "[ 0.03809758  0.96559401  0.04218507 -0.87181899]\n",
      "[ 0.05740946  1.16011764  0.02474869 -1.15094612]\n",
      "[ 0.08061181  1.35490806  0.00172977 -1.43576689]\n",
      "[ 0.10770998  1.55000864 -0.02698557 -1.72790877]\n",
      "[ 0.13871015  1.35520529 -0.06154374 -1.44374294]\n",
      "[ 0.16581425  1.55102837 -0.0904186  -1.75500389]\n",
      "[ 0.19683482  1.74705173 -0.12551868 -2.07438466]\n",
      "[ 0.23177586  1.94320445 -0.16700637 -2.40310468]\n",
      "[ 0.27063994  1.74988764 -0.21506847 -2.16603589]\n",
      "done == True : 39\n",
      "[ 0.04404354  0.17979172  0.01293454 -0.24965873]\n",
      "[ 0.04763937 -0.01551254  0.00794137  0.04707579]\n",
      "[ 0.04732912 -0.21074746  0.00888288  0.34225367]\n",
      "[ 0.04311417 -0.015753    0.01572796  0.05238507]\n",
      "[ 0.04279911  0.17913994  0.01677566 -0.23529436]\n",
      "[ 0.04638191 -0.01621763  0.01206977  0.06263257]\n",
      "[ 0.04605756 -0.21151053  0.01332242  0.35909901]\n",
      "[ 0.04182735 -0.40681931  0.0205044   0.65595286]\n",
      "[ 0.03369096 -0.21198873  0.03362346  0.36979629]\n",
      "[ 0.02945119 -0.40757187  0.04101938  0.67288861]\n",
      "[ 0.02129975 -0.21304336  0.05447716  0.39339761]\n",
      "[ 0.01703888 -0.01873507  0.06234511  0.11837594]\n",
      "[ 0.01666418 -0.21469232  0.06471263  0.43005833]\n",
      "[ 0.01237033 -0.41066812  0.07331379  0.74241896]\n",
      "[ 0.00415697 -0.60672138  0.08816217  1.05724383]\n",
      "[-0.00797746 -0.41287121  0.10930705  0.79348399]\n",
      "[-0.01623488 -0.60931026  0.12517673  1.11845634]\n",
      "[-0.02842108 -0.4160329   0.14754586  0.86751465]\n",
      "[-0.03674174 -0.61282116  0.16489615  1.2027111 ]\n",
      "[-0.04899817 -0.42016961  0.18895037  0.96591369]\n",
      "[-0.05740156 -0.61725761  0.20826865  1.31150546]\n",
      "[-0.06974671 -0.81431739  0.23449875  1.66149684]\n",
      "done == True : 22\n",
      "[-0.01261732  0.20309295  0.01253867 -0.28360301]\n",
      "[-0.00855546  0.00779443  0.00686661  0.01300803]\n",
      "[-0.00839957 -0.18742532  0.00712677  0.30784952]\n",
      "[-0.01214808 -0.3826481   0.01328376  0.60277149]\n",
      "[-0.01980104 -0.5779533   0.02533919  0.89960876]\n",
      "[-0.03136011 -0.77340931  0.04333137  1.20014759]\n",
      "[-0.04682829 -0.57887386  0.06733432  0.92135374]\n",
      "[-0.05840577 -0.38472325  0.08576139  0.65056911]\n",
      "[-0.06610023 -0.58092842  0.09877277  0.96897817]\n",
      "[-0.0777188  -0.3872613   0.11815234  0.70888539]\n",
      "[-0.08546403 -0.58380438  0.13233005  1.03630063]\n",
      "[-0.09714012 -0.78041337  0.15305606  1.36742732]\n",
      "[-0.11274838 -0.97708363  0.1804046   1.70380703]\n",
      "[-0.13229006 -1.17376559  0.21448074  2.04679381]\n",
      "done == True : 14\n",
      "[ 0.0431732  -0.16684109  0.03649795  0.33446203]\n",
      "[ 0.03983638 -0.36246297  0.04318719  0.63842745]\n",
      "[ 0.03258712 -0.55815966  0.05595573  0.94439186]\n",
      "[ 0.02142393 -0.75398894  0.07484357  1.25411845]\n",
      "[ 0.00634415 -0.94998533  0.09992594  1.56927348]\n",
      "[-0.01265556 -1.14614833  0.13131141  1.89137951]\n",
      "[-0.03557853 -0.95267373  0.169139    1.64216074]\n",
      "[-0.054632   -0.75988833  0.20198222  1.40659929]\n",
      "[-0.06982977 -0.95686158  0.2301142   1.75503255]\n",
      "done == True : 9\n",
      "[ 0.00875393 -0.19962061  0.03977008  0.34608153]\n",
      "[ 0.00476152 -0.39528505  0.04669171  0.65103542]\n",
      "[-0.00314418 -0.20084344  0.05971242  0.37341326]\n",
      "[-0.00716105 -0.39676055  0.06718068  0.68431019]\n",
      "[-0.01509626 -0.59274778  0.08086689  0.99736415]\n",
      "[-0.02695122 -0.39879474  0.10081417  0.73113429]\n",
      "[-0.03492712 -0.59515472  0.11543686  1.05376793]\n",
      "[-0.04683021 -0.79160206  0.13651222  1.38034088]\n",
      "[-0.06266225 -0.98813826  0.16411903  1.71241257]\n",
      "[-0.08242502 -1.1847205   0.19836728  2.0513583 ]\n",
      "[-0.10611943 -1.38124577  0.23939445  2.39830357]\n",
      "done == True : 11\n"
     ]
    }
   ],
   "source": [
    "\"\"\"\n",
    "使用随机策略来控制杆子的移动\n",
    "运行20次\n",
    "每个 episode 中执行，最多执行100步\n",
    "\"\"\"\n",
    "env = gym.make('CartPole-v0')\n",
    "for i_episode in range(20): # 外层循环\n",
    "    obs = env.reset()\n",
    "    for t in range(100): # 内层循环\n",
    "        # 内层循环体\n",
    "        env.render()\n",
    "        action = env.action_space.sample()\n",
    "        obs, re, done, info = env.step(action)\n",
    "        print(obs)\n",
    "        if done:\n",
    "            print(\"done == True : %d\" % (t+1))\n",
    "            break\n",
    "env.close()"
   ]
  },
  {
   "cell_type": "markdown",
   "metadata": {},
   "source": [
    "### GYM实现随机运动策略"
   ]
  },
  {
   "cell_type": "code",
   "execution_count": 7,
   "metadata": {},
   "outputs": [
    {
     "name": "stderr",
     "output_type": "stream",
     "text": [
      "c:\\Program Files\\Python36\\lib\\site-packages\\gym\\logger.py:34: UserWarning: \u001b[33mWARN: You are calling 'step()' even though this environment has already returned done = True. You should always call 'reset()' once you receive 'done = True' -- any further steps are undefined behavior.\u001b[0m\n",
      "  warnings.warn(colorize(\"%s: %s\" % (\"WARN\", msg % args), \"yellow\"))\n"
     ]
    }
   ],
   "source": [
    "import gym\n",
    "env=gym.make(\"CartPole-v0\")\n",
    "env.reset()\n",
    "for _ in range(1000):\n",
    "    env.render()\n",
    "    env.step(env.action_space.sample())\n",
    "env.close()"
   ]
  },
  {
   "cell_type": "markdown",
   "metadata": {},
   "source": [
    "### GYM实现简单策略\n",
    "当杆向左倾斜时加速左移，当杆向右倾斜时加速右移。我们使用这个策略来获得超过 500 步的平均回报。"
   ]
  },
  {
   "cell_type": "code",
   "execution_count": 8,
   "metadata": {},
   "outputs": [
    {
     "name": "stdout",
     "output_type": "stream",
     "text": [
      "47.0\n"
     ]
    },
    {
     "data": {
      "text/plain": [
       "(42.8, 8.499647051495726, 25.0, 72.0)"
      ]
     },
     "execution_count": 8,
     "metadata": {},
     "output_type": "execute_result"
    }
   ],
   "source": [
    "def basic_policy(obs):    \n",
    "    angle = obs[2]    \n",
    "    return 0 if angle < 0 else 1\n",
    "\n",
    "totals = [ ] \n",
    "for episode in range(500):    \n",
    "    episode_rewards = 0    \n",
    "    obs = env.reset()    \n",
    "    for step in range(1000): \n",
    "        action = basic_policy(obs)        \n",
    "        obs, reward, done, info = env.step(action)        \n",
    "        episode_rewards += reward        \n",
    "        if done:            \n",
    "            break    \n",
    "    totals.append(episode_rewards)\n",
    "\n",
    "print(episode_rewards)\n",
    "np.mean(totals), np.std(totals), np.min(totals), np.max(totals)"
   ]
  },
  {
   "cell_type": "markdown",
   "metadata": {},
   "source": [
    "### 马尔可夫链"
   ]
  },
  {
   "cell_type": "code",
   "execution_count": 12,
   "metadata": {},
   "outputs": [
    {
     "name": "stdout",
     "output_type": "stream",
     "text": [
      "States: 0 0 3 3 3 3 3 3 3 3 3 3 3 3 3 3 3 3 3 3 3 3 3 3 3 3 3 3 3 3 3 3 3 3 3 3 3 3 3 3 3 3 3 3 3 3 3 3 3 3 ...\n",
      "States: 0 0 0 0 0 0 1 2 1 2 1 2 1 2 1 2 1 2 1 3 3 3 3 3 3 3 3 3 3 3 3 3 3 3 3 3 3 3 3 3 3 3 3 3 3 3 3 3 3 3 ...\n",
      "States: 0 3 3 3 3 3 3 3 3 3 3 3 3 3 3 3 3 3 3 3 3 3 3 3 3 3 3 3 3 3 3 3 3 3 3 3 3 3 3 3 3 3 3 3 3 3 3 3 3 3 ...\n",
      "States: 0 0 1 2 1 2 1 2 1 2 1 2 1 2 1 2 1 3 3 3 3 3 3 3 3 3 3 3 3 3 3 3 3 3 3 3 3 3 3 3 3 3 3 3 3 3 3 3 3 3 ...\n",
      "States: 0 0 0 1 2 1 2 1 3 3 3 3 3 3 3 3 3 3 3 3 3 3 3 3 3 3 3 3 3 3 3 3 3 3 3 3 3 3 3 3 3 3 3 3 3 3 3 3 3 3 ...\n",
      "States: 0 0 0 0 3 3 3 3 3 3 3 3 3 3 3 3 3 3 3 3 3 3 3 3 3 3 3 3 3 3 3 3 3 3 3 3 3 3 3 3 3 3 3 3 3 3 3 3 3 3 ...\n",
      "States: 0 0 0 1 2 1 2 1 2 1 2 1 2 1 2 1 2 1 2 1 2 1 2 1 2 1 2 1 2 1 3 3 3 3 3 3 3 3 3 3 3 3 3 3 3 3 3 3 3 3 ...\n",
      "States: 0 0 0 1 2 1 2 1 2 1 2 1 2 1 3 3 3 3 3 3 3 3 3 3 3 3 3 3 3 3 3 3 3 3 3 3 3 3 3 3 3 3 3 3 3 3 3 3 3 3 ...\n",
      "States: 0 3 3 3 3 3 3 3 3 3 3 3 3 3 3 3 3 3 3 3 3 3 3 3 3 3 3 3 3 3 3 3 3 3 3 3 3 3 3 3 3 3 3 3 3 3 3 3 3 3 ...\n",
      "States: 0 3 3 3 3 3 3 3 3 3 3 3 3 3 3 3 3 3 3 3 3 3 3 3 3 3 3 3 3 3 3 3 3 3 3 3 3 3 3 3 3 3 3 3 3 3 3 3 3 3 ...\n"
     ]
    }
   ],
   "source": [
    "transition_probabilities=[\n",
    "    [0.7,0.2,0.0,0.1],\n",
    "    [0.0,0.0,0.9,0.1],\n",
    "    [0.0,1.0,0.0,0.0],\n",
    "    [0.0,0.0,0.0,1.0]\n",
    "]\n",
    "n_max_steps=50\n",
    "\n",
    "def print_sequence(start_state=0):\n",
    "    current_state = start_state\n",
    "    print(\"States:\", end=\" \")\n",
    "    for step in range(n_max_steps):\n",
    "        print(current_state, end=\" \")\n",
    "        current_state = np.random.choice(range(4), p=transition_probabilities[current_state])\n",
    "    else:\n",
    "        print(\"...\", end=\"\")\n",
    "    print()\n",
    "\n",
    "for _ in range(10):\n",
    "    print_sequence()"
   ]
  },
  {
   "cell_type": "markdown",
   "metadata": {},
   "source": [
    "### Q值迭代算法"
   ]
  },
  {
   "cell_type": "code",
   "execution_count": 13,
   "metadata": {},
   "outputs": [],
   "source": [
    "nan = np.nan #无法到达\n",
    "T = np.array([ # shape=[s, a, s']\n",
    "    [[0.7, 0.3, 0.0], [1.0, 0.0, 0.0], [0.8, 0.2, 0.0]],\n",
    "    [[0.0, 1.0, 0.0], [nan, nan, nan], [0.0, 0.0, 1.0]],\n",
    "    [[nan, nan, nan], [0.8, 0.1, 0.1], [nan, nan, nan]],\n",
    "])\n",
    "\n",
    "R = np.array([ # shape=[s, a, s']\n",
    "    [[10., 0.0, 0.0], [0.0, 0.0, 0.0], [0.0, 0.0,  0.0]],\n",
    "    [[0.0, 0.0, 0.0], [nan, nan, nan], [0.0, 0.0, -50.]],\n",
    "    [[nan, nan, nan], [40., 0.0, 0.0], [nan, nan,  nan]],\n",
    "])\n",
    "\n",
    "possible_actions = [[0, 1, 2], [0, 2], [1]]#shape = [s,a]"
   ]
  },
  {
   "cell_type": "code",
   "execution_count": 14,
   "metadata": {},
   "outputs": [],
   "source": [
    "#初始化变量\n",
    "Q = np.full((3, 3), -np.inf) # -inf 表示不可能的动作\n",
    "for state, actions in enumerate(possible_actions):\n",
    "    Q[state, actions] = 0.0 # 所有动作的初始值都为0.0\n",
    "\n",
    "d_rate = 0.95\n",
    "n_iterations = 100"
   ]
  },
  {
   "cell_type": "code",
   "execution_count": 15,
   "metadata": {},
   "outputs": [
    {
     "data": {
      "text/plain": [
       "array([[21.88646117, 20.79149867, 16.854807  ],\n",
       "       [ 1.10804034,        -inf,  1.16703135],\n",
       "       [       -inf, 53.8607061 ,        -inf]])"
      ]
     },
     "execution_count": 15,
     "metadata": {},
     "output_type": "execute_result"
    }
   ],
   "source": [
    "#运行Q-Value 迭代算法\n",
    "for iteration in range(n_iterations):\n",
    "    Q_prev = Q.copy()\n",
    "    for s in range(3):\n",
    "        for a in possible_actions[s]:\n",
    "            Q[s, a] = np.sum([T[s,a, sp]*(R[s,a,sp]+d_rate*np.max(Q_prev[sp])) for sp in range(3) ])\n",
    "Q"
   ]
  },
  {
   "cell_type": "markdown",
   "metadata": {},
   "source": [
    "### Q-Learning"
   ]
  },
  {
   "cell_type": "code",
   "execution_count": 17,
   "metadata": {},
   "outputs": [],
   "source": [
    "import numpy.random as rnd\n",
    "learning_rate0 = 0.05\n",
    "learning_rate_decay = 0.1\n",
    "discount_rate = 0.9\n",
    "n_iterations = 20000\n",
    "\n",
    "s = 0 # start in state 0\n",
    "Q = np.full((3, 3), -np.inf) # -inf为不可能动作\n",
    "\n",
    "for state, actions in enumerate(possible_actions):\n",
    "    Q[state, actions] = 0.0 "
   ]
  },
  {
   "cell_type": "code",
   "execution_count": 19,
   "metadata": {},
   "outputs": [
    {
     "data": {
      "text/plain": [
       "array([[ 21.44239994,  53.52441579,  49.47192337],\n",
       "       [ 23.82482265,         -inf, -28.55490023],\n",
       "       [        -inf,  88.17036621,         -inf]])"
      ]
     },
     "execution_count": 19,
     "metadata": {},
     "output_type": "execute_result"
    }
   ],
   "source": [
    "for iteration in range(n_iterations):\n",
    "    # 随机选择一个动作\n",
    "    a = rnd.choice(possible_actions[s]) \n",
    "    # 使用T[s, a] 选择下一个状态\n",
    "    sp = rnd.choice(range(3), p=T[s, a])     \n",
    "    reward = R[s, a, sp]\n",
    "    learning_rate = learning_rate0 / (1 + iteration * learning_rate_decay)\n",
    "    Q[s, a] = learning_rate * Q[s, a] + (1 - learning_rate) * (\n",
    "        reward + discount_rate * np.max(Q[sp])\n",
    "    )\n",
    "    s = sp # 移动到下一个状态\n",
    "Q"
   ]
  },
  {
   "cell_type": "markdown",
   "metadata": {},
   "source": [
    "### gym倒立摆"
   ]
  },
  {
   "cell_type": "code",
   "execution_count": 1,
   "metadata": {},
   "outputs": [
    {
     "name": "stderr",
     "output_type": "stream",
     "text": [
      "c:\\Program Files\\Python36\\lib\\site-packages\\gym\\logger.py:34: UserWarning: \u001b[33mWARN: You are calling 'step()' even though this environment has already returned done = True. You should always call 'reset()' once you receive 'done = True' -- any further steps are undefined behavior.\u001b[0m\n",
      "  warnings.warn(colorize(\"%s: %s\" % (\"WARN\", msg % args), \"yellow\"))\n"
     ]
    }
   ],
   "source": [
    "import gym\n",
    "env = gym.make('CartPole-v0')\n",
    "env.reset()\n",
    "\n",
    "for _ in range(1000):\n",
    "    env.render()\n",
    "    env.step(env.action_space.sample()) # take a random action\n",
    "\n",
    "env.close()"
   ]
  },
  {
   "cell_type": "markdown",
   "metadata": {},
   "source": [
    "### gym弹球"
   ]
  },
  {
   "cell_type": "code",
   "execution_count": 2,
   "metadata": {},
   "outputs": [
    {
     "name": "stdout",
     "output_type": "stream",
     "text": [
      "Score: 0.0\n",
      "Score: 0.0\n",
      "Score: 0.0\n",
      "Score: 0.0\n",
      "Score: 0.0\n",
      "Score: 0.0\n",
      "Score: 0.0\n",
      "Score: 0.0\n",
      "Score: 0.0\n"
     ]
    },
    {
     "ename": "IndexError",
     "evalue": "index 32 is out of bounds for axis 0 with size 4",
     "output_type": "error",
     "traceback": [
      "\u001b[1;31m---------------------------------------------------------------------------\u001b[0m",
      "\u001b[1;31mIndexError\u001b[0m                                Traceback (most recent call last)",
      "\u001b[1;32m<ipython-input-2-803a12e5fbaf>\u001b[0m in \u001b[0;36m<module>\u001b[1;34m\u001b[0m\n\u001b[0;32m     24\u001b[0m \u001b[1;33m\u001b[0m\u001b[0m\n\u001b[0;32m     25\u001b[0m     \u001b[1;31m# Perform the action in the environment\u001b[0m\u001b[1;33m\u001b[0m\u001b[1;33m\u001b[0m\u001b[1;33m\u001b[0m\u001b[0m\n\u001b[1;32m---> 26\u001b[1;33m     \u001b[0mobs\u001b[0m\u001b[1;33m,\u001b[0m \u001b[0mreward\u001b[0m\u001b[1;33m,\u001b[0m \u001b[0mdone\u001b[0m\u001b[1;33m,\u001b[0m \u001b[0minfo\u001b[0m \u001b[1;33m=\u001b[0m \u001b[0menv\u001b[0m\u001b[1;33m.\u001b[0m\u001b[0mstep\u001b[0m\u001b[1;33m(\u001b[0m\u001b[0maction\u001b[0m\u001b[1;33m)\u001b[0m\u001b[1;33m\u001b[0m\u001b[1;33m\u001b[0m\u001b[0m\n\u001b[0m\u001b[0;32m     27\u001b[0m \u001b[1;33m\u001b[0m\u001b[0m\n\u001b[0;32m     28\u001b[0m     \u001b[1;31m# Update the score\u001b[0m\u001b[1;33m\u001b[0m\u001b[1;33m\u001b[0m\u001b[1;33m\u001b[0m\u001b[0m\n",
      "\u001b[1;32mc:\\Program Files\\Python36\\lib\\site-packages\\gym\\wrappers\\time_limit.py\u001b[0m in \u001b[0;36mstep\u001b[1;34m(self, action)\u001b[0m\n\u001b[0;32m     16\u001b[0m             \u001b[0mself\u001b[0m\u001b[1;33m.\u001b[0m\u001b[0m_elapsed_steps\u001b[0m \u001b[1;32mis\u001b[0m \u001b[1;32mnot\u001b[0m \u001b[1;32mNone\u001b[0m\u001b[1;33m\u001b[0m\u001b[1;33m\u001b[0m\u001b[0m\n\u001b[0;32m     17\u001b[0m         ), \"Cannot call env.step() before calling reset()\"\n\u001b[1;32m---> 18\u001b[1;33m         \u001b[0mobservation\u001b[0m\u001b[1;33m,\u001b[0m \u001b[0mreward\u001b[0m\u001b[1;33m,\u001b[0m \u001b[0mdone\u001b[0m\u001b[1;33m,\u001b[0m \u001b[0minfo\u001b[0m \u001b[1;33m=\u001b[0m \u001b[0mself\u001b[0m\u001b[1;33m.\u001b[0m\u001b[0menv\u001b[0m\u001b[1;33m.\u001b[0m\u001b[0mstep\u001b[0m\u001b[1;33m(\u001b[0m\u001b[0maction\u001b[0m\u001b[1;33m)\u001b[0m\u001b[1;33m\u001b[0m\u001b[1;33m\u001b[0m\u001b[0m\n\u001b[0m\u001b[0;32m     19\u001b[0m         \u001b[0mself\u001b[0m\u001b[1;33m.\u001b[0m\u001b[0m_elapsed_steps\u001b[0m \u001b[1;33m+=\u001b[0m \u001b[1;36m1\u001b[0m\u001b[1;33m\u001b[0m\u001b[1;33m\u001b[0m\u001b[0m\n\u001b[0;32m     20\u001b[0m         \u001b[1;32mif\u001b[0m \u001b[0mself\u001b[0m\u001b[1;33m.\u001b[0m\u001b[0m_elapsed_steps\u001b[0m \u001b[1;33m>=\u001b[0m \u001b[0mself\u001b[0m\u001b[1;33m.\u001b[0m\u001b[0m_max_episode_steps\u001b[0m\u001b[1;33m:\u001b[0m\u001b[1;33m\u001b[0m\u001b[1;33m\u001b[0m\u001b[0m\n",
      "\u001b[1;32mc:\\Program Files\\Python36\\lib\\site-packages\\gym\\envs\\atari\\atari_env.py\u001b[0m in \u001b[0;36mstep\u001b[1;34m(self, a)\u001b[0m\n\u001b[0;32m    125\u001b[0m     \u001b[1;32mdef\u001b[0m \u001b[0mstep\u001b[0m\u001b[1;33m(\u001b[0m\u001b[0mself\u001b[0m\u001b[1;33m,\u001b[0m \u001b[0ma\u001b[0m\u001b[1;33m)\u001b[0m\u001b[1;33m:\u001b[0m\u001b[1;33m\u001b[0m\u001b[1;33m\u001b[0m\u001b[0m\n\u001b[0;32m    126\u001b[0m         \u001b[0mreward\u001b[0m \u001b[1;33m=\u001b[0m \u001b[1;36m0.0\u001b[0m\u001b[1;33m\u001b[0m\u001b[1;33m\u001b[0m\u001b[0m\n\u001b[1;32m--> 127\u001b[1;33m         \u001b[0maction\u001b[0m \u001b[1;33m=\u001b[0m \u001b[0mself\u001b[0m\u001b[1;33m.\u001b[0m\u001b[0m_action_set\u001b[0m\u001b[1;33m[\u001b[0m\u001b[0ma\u001b[0m\u001b[1;33m]\u001b[0m\u001b[1;33m\u001b[0m\u001b[1;33m\u001b[0m\u001b[0m\n\u001b[0m\u001b[0;32m    128\u001b[0m \u001b[1;33m\u001b[0m\u001b[0m\n\u001b[0;32m    129\u001b[0m         \u001b[1;32mif\u001b[0m \u001b[0misinstance\u001b[0m\u001b[1;33m(\u001b[0m\u001b[0mself\u001b[0m\u001b[1;33m.\u001b[0m\u001b[0mframeskip\u001b[0m\u001b[1;33m,\u001b[0m \u001b[0mint\u001b[0m\u001b[1;33m)\u001b[0m\u001b[1;33m:\u001b[0m\u001b[1;33m\u001b[0m\u001b[1;33m\u001b[0m\u001b[0m\n",
      "\u001b[1;31mIndexError\u001b[0m: index 32 is out of bounds for axis 0 with size 4"
     ]
    },
    {
     "ename": "",
     "evalue": "",
     "output_type": "error",
     "traceback": [
      "\u001b[1;31m在当前单元格或上一个单元格中执行代码时 Kernel 崩溃。\n",
      "\u001b[1;31m请查看单元格中的代码，以确定故障的可能原因。\n",
      "\u001b[1;31m单击<a href='https://aka.ms/vscodeJupyterKernelCrash'>此处</a>了解详细信息。\n",
      "\u001b[1;31m有关更多详细信息，请查看 Jupyter <a href='command:jupyter.viewOutput'>log</a>。"
     ]
    }
   ],
   "source": [
    "import gym\n",
    "import time\n",
    "env = gym.make(\"Breakout-v0\")\n",
    "obs = env.reset()\n",
    "#弹球的动作空间为4，即有4个动作，0,1,2,3.\n",
    "#这四个值分别控制球拍的四个动作，0：原地不动，1：发球，2：右移，3：左移\n",
    "#任务：打开一个命令提示符界面，通过手动执行env.step(n);env.render()等命令，实现手动控制球拍得到5分。\n",
    "import gym\n",
    "\n",
    "# Create the Breakout environment\n",
    "env = gym.make(\"Breakout-v0\")\n",
    "\n",
    "# Reset the environment\n",
    "obs = env.reset()\n",
    "\n",
    "# Manually control the paddle to achieve a score of 5\n",
    "score = 0\n",
    "while score < 5:\n",
    "    # Render the environment\n",
    "    env.render()\n",
    "    \n",
    "    # Get user input for paddle movement\n",
    "    action = int(input(\"Enter action (0: Stay, 1: Serve, 2: Move Right, 3: Move Left): \"))\n",
    "    \n",
    "    # Perform the action in the environment\n",
    "    obs, reward, done, info = env.step(action)\n",
    "    \n",
    "    # Update the score\n",
    "    score += reward\n",
    "    \n",
    "    # Print the current score\n",
    "    print(\"Score:\", score)\n",
    "    \n",
    "# Close the environment\n",
    "env.close()"
   ]
  }
 ],
 "metadata": {
  "kernelspec": {
   "display_name": "Python 3",
   "language": "python",
   "name": "python3"
  },
  "language_info": {
   "codemirror_mode": {
    "name": "ipython",
    "version": 3
   },
   "file_extension": ".py",
   "mimetype": "text/x-python",
   "name": "python",
   "nbconvert_exporter": "python",
   "pygments_lexer": "ipython3",
   "version": "3.6.8"
  }
 },
 "nbformat": 4,
 "nbformat_minor": 2
}
