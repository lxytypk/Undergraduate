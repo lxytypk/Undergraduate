{
 "cells": [
  {
   "cell_type": "code",
   "execution_count": 2,
   "id": "2bb9aefa",
   "metadata": {},
   "outputs": [],
   "source": [
    "from tensorflow import keras\n",
    "from tensorflow.keras.layers import Conv1D,MaxPool1D\n",
    "import numpy as np"
   ]
  },
  {
   "cell_type": "markdown",
   "id": "1ace1b8c",
   "metadata": {},
   "source": [
    "### 函数generate_time_series()生成的时间序列"
   ]
  },
  {
   "cell_type": "code",
   "execution_count": 5,
   "id": "74c9f089",
   "metadata": {},
   "outputs": [],
   "source": [
    "'''生成一批时间序列数据，每个时间序列由两个正弦波的和以及一些噪声构成'''\n",
    "def generate_time_series(batch_size,n_steps):\n",
    "    freq1,freq2,offsets1,offsets2=np.random.rand(4,batch_size,1) #每个时间步只有一个值\n",
    "    \n",
    "    time=np.linspace(0, 1, n_steps) #生成时间步数组\n",
    "    series=0.5*np.sin((time-offsets1)*(freq1*10+10)) #wave 1\n",
    "    series+=0.2*np.sin((time-offsets2)*(freq2*20+20)) # +wave 2\n",
    "    series+=0.1*(np.random.rand(batch_size,n_steps)-0.5) # +noise\n",
    "    return series[...,np.newaxis].astype(np.float32) #返回 [批次大小，时间步数，1]，每个序列是2个正弦波之和（固定强度+随机频率和相位）+噪声\n",
    "#在原始数组 series 的末尾添加了一个新的轴，从而改变了数组的维度\n",
    "#series 是一个二维数组，形状为 (batch_size, n_steps)\n",
    "\n",
    "#其形状是 批次大小 时间步数 维度 "
   ]
  },
  {
   "cell_type": "markdown",
   "id": "8c85b960",
   "metadata": {},
   "source": [
    "### 创建训练集、验证集和测试集"
   ]
  },
  {
   "cell_type": "code",
   "execution_count": 6,
   "id": "c0fe02ad",
   "metadata": {},
   "outputs": [],
   "source": [
    "n_steps = 50\n",
    "series = generate_time_series(10000, n_steps + 10)\n",
    "X_train = series[:7000, :n_steps]\n",
    "X_valid = series[7000:9000, :n_steps]\n",
    "X_test = series[9000:, :n_steps]\n",
    "Y = np.empty((10000, n_steps, 10))\n",
    "for step_ahead in range(1, 10 + 1):\n",
    "    Y[..., step_ahead - 1] = series[..., step_ahead:step_ahead + n_steps, 0]\n",
    "Y_train = Y[:7000]\n",
    "Y_valid = Y[7000:9000]\n",
    "Y_test = Y[9000:]"
   ]
  },
  {
   "cell_type": "markdown",
   "id": "79ebce17",
   "metadata": {},
   "source": [
    "### 使用1D卷积层处理序列"
   ]
  },
  {
   "cell_type": "code",
   "execution_count": 7,
   "id": "e8b5e5bc",
   "metadata": {},
   "outputs": [],
   "source": [
    "def last_time_step_mse(Y_true, Y_pred):\n",
    "    return keras.metrics.mean_squared_error(Y_true[:, -1], Y_pred[:, -1])"
   ]
  },
  {
   "cell_type": "code",
   "execution_count": 8,
   "id": "dbe84fb1",
   "metadata": {},
   "outputs": [
    {
     "name": "stdout",
     "output_type": "stream",
     "text": [
      "Epoch 1/20\n",
      "219/219 [==============================] - 4s 10ms/step - loss: 0.0667 - last_time_step_mse: 0.0589 - val_loss: 0.0446 - val_last_time_step_mse: 0.0352\n",
      "Epoch 2/20\n",
      "219/219 [==============================] - 2s 9ms/step - loss: 0.0392 - last_time_step_mse: 0.0312 - val_loss: 0.0343 - val_last_time_step_mse: 0.0263\n",
      "Epoch 3/20\n",
      "219/219 [==============================] - 2s 9ms/step - loss: 0.0311 - last_time_step_mse: 0.0224 - val_loss: 0.0280 - val_last_time_step_mse: 0.0183\n",
      "Epoch 4/20\n",
      "219/219 [==============================] - 2s 9ms/step - loss: 0.0265 - last_time_step_mse: 0.0161 - val_loss: 0.0249 - val_last_time_step_mse: 0.0143\n",
      "Epoch 5/20\n",
      "219/219 [==============================] - 2s 9ms/step - loss: 0.0244 - last_time_step_mse: 0.0133 - val_loss: 0.0235 - val_last_time_step_mse: 0.0127\n",
      "Epoch 6/20\n",
      "219/219 [==============================] - 7s 30ms/step - loss: 0.0231 - last_time_step_mse: 0.0119 - val_loss: 0.0226 - val_last_time_step_mse: 0.0118\n",
      "Epoch 7/20\n",
      "219/219 [==============================] - 7s 32ms/step - loss: 0.0223 - last_time_step_mse: 0.0112 - val_loss: 0.0219 - val_last_time_step_mse: 0.0113\n",
      "Epoch 8/20\n",
      "219/219 [==============================] - 6s 29ms/step - loss: 0.0218 - last_time_step_mse: 0.0108 - val_loss: 0.0213 - val_last_time_step_mse: 0.0111\n",
      "Epoch 9/20\n",
      "219/219 [==============================] - 6s 29ms/step - loss: 0.0213 - last_time_step_mse: 0.0103 - val_loss: 0.0209 - val_last_time_step_mse: 0.0104\n",
      "Epoch 10/20\n",
      "219/219 [==============================] - 6s 27ms/step - loss: 0.0209 - last_time_step_mse: 0.0101 - val_loss: 0.0206 - val_last_time_step_mse: 0.0103\n",
      "Epoch 11/20\n",
      "219/219 [==============================] - 6s 27ms/step - loss: 0.0206 - last_time_step_mse: 0.0099 - val_loss: 0.0202 - val_last_time_step_mse: 0.0098\n",
      "Epoch 12/20\n",
      " 21/219 [=>............................] - ETA: 5s - loss: 0.0206 - last_time_step_mse: 0.0099"
     ]
    }
   ],
   "source": [
    "model = keras.models.Sequential([\n",
    "    keras.layers.Conv1D(filters=20, kernel_size=4, strides=2, padding=\"valid\",\n",
    "                        input_shape=[None, 1]),\n",
    "    keras.layers.GRU(20, return_sequences=True),\n",
    "    keras.layers.GRU(20, return_sequences=True),\n",
    "    keras.layers.TimeDistributed(keras.layers.Dense(10))\n",
    "])\n",
    "\n",
    "model.compile(loss=\"mse\", optimizer=\"adam\", metrics=[last_time_step_mse])\n",
    "history = model.fit(X_train, Y_train[:, 3::2], epochs=20,\n",
    "                    validation_data=(X_valid, Y_valid[:, 3::2]))"
   ]
  },
  {
   "cell_type": "markdown",
   "id": "2e756c78",
   "metadata": {},
   "source": [
    "### 1维卷积神经网络，并对随机数据进行处理"
   ]
  },
  {
   "cell_type": "code",
   "execution_count": 9,
   "id": "146c2000",
   "metadata": {},
   "outputs": [
    {
     "name": "stdout",
     "output_type": "stream",
     "text": [
      "(1, 25, 1)\n",
      "[[[1.6615312 ]\n",
      "  [1.6615312 ]\n",
      "  [1.3948901 ]\n",
      "  [1.3948901 ]\n",
      "  [1.3948901 ]\n",
      "  [1.3948901 ]\n",
      "  [1.3948901 ]\n",
      "  [0.79422855]\n",
      "  [0.65266365]\n",
      "  [0.65266365]\n",
      "  [1.9572995 ]\n",
      "  [1.9572995 ]\n",
      "  [2.0132625 ]\n",
      "  [2.0132625 ]\n",
      "  [2.0132625 ]\n",
      "  [2.0132625 ]\n",
      "  [2.7978804 ]]]\n",
      "(1, 17, 1)\n"
     ]
    }
   ],
   "source": [
    "# 卷积层\n",
    "filters = 1 # 卷积核数量为 1\n",
    "kernel_size = 5 # 卷积核大小为 5\n",
    "convolution_1d_layer = Conv1D(filters, kernel_size, \n",
    "    strides=1, padding='valid', input_shape=(25, 1), \n",
    "    activation=\"relu\")\n",
    "# 池化层\n",
    "max_pooling_layer = MaxPool1D(pool_size=5, strides=1, \n",
    "    padding=\"valid\")\n",
    "\n",
    "model1 = keras.models.Sequential([\n",
    "    convolution_1d_layer,\n",
    "    max_pooling_layer\n",
    "])\n",
    "# 创建 1 维向量，并扩展维度为 (1, 25, 1)\n",
    "data_1d = np.random.normal(size=25)\n",
    "data_1d = np.expand_dims(data_1d, 0)\n",
    "data_1d = np.expand_dims(data_1d, 2)\n",
    "print(data_1d.shape)\n",
    "output = model1.predict(data_1d)\n",
    "print(output)\n",
    "print(output.shape)"
   ]
  },
  {
   "cell_type": "code",
   "execution_count": 10,
   "id": "38f3fe6d",
   "metadata": {},
   "outputs": [
    {
     "name": "stdout",
     "output_type": "stream",
     "text": [
      "Model: \"sequential_6\"\n",
      "_________________________________________________________________\n",
      "Layer (type)                 Output Shape              Param #   \n",
      "=================================================================\n",
      "conv1d_6 (Conv1D)            (None, 21, 1)             6         \n",
      "_________________________________________________________________\n",
      "max_pooling1d_6 (MaxPooling1 (None, 17, 1)             0         \n",
      "=================================================================\n",
      "Total params: 6\n",
      "Trainable params: 6\n",
      "Non-trainable params: 0\n",
      "_________________________________________________________________\n"
     ]
    }
   ],
   "source": [
    "model1.summary()"
   ]
  },
  {
   "cell_type": "code",
   "execution_count": null,
   "id": "955c9120",
   "metadata": {},
   "outputs": [
    {
     "data": {
      "text/plain": [
       "(1, 25, 10)"
      ]
     },
     "execution_count": 10,
     "metadata": {},
     "output_type": "execute_result"
    }
   ],
   "source": [
    "output.shape"
   ]
  },
  {
   "cell_type": "markdown",
   "id": "c13fcb20",
   "metadata": {},
   "source": [
    "### WaveNet"
   ]
  },
  {
   "cell_type": "code",
   "execution_count": null,
   "id": "338cdfc8",
   "metadata": {},
   "outputs": [
    {
     "name": "stdout",
     "output_type": "stream",
     "text": [
      "Epoch 1/20\n",
      "219/219 [==============================] - 4s 13ms/step - loss: 0.0651 - last_time_step_mse: 0.0524 - val_loss: 0.0376 - val_last_time_step_mse: 0.0227\n",
      "Epoch 2/20\n",
      "219/219 [==============================] - 3s 12ms/step - loss: 0.0321 - last_time_step_mse: 0.0187 - val_loss: 0.0295 - val_last_time_step_mse: 0.0160\n",
      "Epoch 3/20\n",
      "219/219 [==============================] - 3s 12ms/step - loss: 0.0278 - last_time_step_mse: 0.0149 - val_loss: 0.0271 - val_last_time_step_mse: 0.0139\n",
      "Epoch 4/20\n",
      "219/219 [==============================] - 2s 11ms/step - loss: 0.0259 - last_time_step_mse: 0.0132 - val_loss: 0.0260 - val_last_time_step_mse: 0.0130\n",
      "Epoch 5/20\n",
      "219/219 [==============================] - 2s 11ms/step - loss: 0.0249 - last_time_step_mse: 0.0124 - val_loss: 0.0247 - val_last_time_step_mse: 0.0119\n",
      "Epoch 6/20\n",
      "219/219 [==============================] - 3s 12ms/step - loss: 0.0240 - last_time_step_mse: 0.0116 - val_loss: 0.0238 - val_last_time_step_mse: 0.0110\n",
      "Epoch 7/20\n",
      "219/219 [==============================] - 3s 12ms/step - loss: 0.0234 - last_time_step_mse: 0.0111 - val_loss: 0.0261 - val_last_time_step_mse: 0.0143\n",
      "Epoch 8/20\n",
      "219/219 [==============================] - 3s 12ms/step - loss: 0.0228 - last_time_step_mse: 0.0105 - val_loss: 0.0230 - val_last_time_step_mse: 0.0104\n",
      "Epoch 9/20\n",
      "219/219 [==============================] - 3s 12ms/step - loss: 0.0224 - last_time_step_mse: 0.0103 - val_loss: 0.0226 - val_last_time_step_mse: 0.0101\n",
      "Epoch 10/20\n",
      "219/219 [==============================] - 3s 12ms/step - loss: 0.0220 - last_time_step_mse: 0.0099 - val_loss: 0.0218 - val_last_time_step_mse: 0.0095\n",
      "Epoch 11/20\n",
      "219/219 [==============================] - 2s 9ms/step - loss: 0.0215 - last_time_step_mse: 0.0096 - val_loss: 0.0214 - val_last_time_step_mse: 0.0092\n",
      "Epoch 12/20\n",
      "219/219 [==============================] - 2s 11ms/step - loss: 0.0211 - last_time_step_mse: 0.0091 - val_loss: 0.0211 - val_last_time_step_mse: 0.0087\n",
      "Epoch 13/20\n",
      "219/219 [==============================] - 2s 10ms/step - loss: 0.0206 - last_time_step_mse: 0.0086 - val_loss: 0.0210 - val_last_time_step_mse: 0.0087\n",
      "Epoch 14/20\n",
      "219/219 [==============================] - 3s 13ms/step - loss: 0.0205 - last_time_step_mse: 0.0085 - val_loss: 0.0210 - val_last_time_step_mse: 0.0087\n",
      "Epoch 15/20\n",
      "219/219 [==============================] - 2s 9ms/step - loss: 0.0202 - last_time_step_mse: 0.0083 - val_loss: 0.0205 - val_last_time_step_mse: 0.0084\n",
      "Epoch 16/20\n",
      "219/219 [==============================] - 3s 12ms/step - loss: 0.0198 - last_time_step_mse: 0.0080 - val_loss: 0.0200 - val_last_time_step_mse: 0.0078\n",
      "Epoch 17/20\n",
      "219/219 [==============================] - 3s 12ms/step - loss: 0.0196 - last_time_step_mse: 0.0077 - val_loss: 0.0197 - val_last_time_step_mse: 0.0074\n",
      "Epoch 18/20\n",
      "219/219 [==============================] - 3s 13ms/step - loss: 0.0192 - last_time_step_mse: 0.0074 - val_loss: 0.0193 - val_last_time_step_mse: 0.0070\n",
      "Epoch 19/20\n",
      "219/219 [==============================] - 3s 12ms/step - loss: 0.0190 - last_time_step_mse: 0.0071 - val_loss: 0.0192 - val_last_time_step_mse: 0.0068\n",
      "Epoch 20/20\n",
      "219/219 [==============================] - 3s 12ms/step - loss: 0.0188 - last_time_step_mse: 0.0070 - val_loss: 0.0193 - val_last_time_step_mse: 0.0070\n"
     ]
    }
   ],
   "source": [
    "model = keras.models.Sequential()\n",
    "model.add(keras.layers.InputLayer(input_shape=[None, 1]))\n",
    "for rate in (1, 2, 4, 8) * 2:\n",
    "    model.add(keras.layers.Conv1D(filters=20, kernel_size=2, padding=\"causal\",\n",
    "                                  activation=\"relu\", dilation_rate=rate))\n",
    "model.add(keras.layers.Conv1D(filters=10, kernel_size=1))\n",
    "model.compile(loss=\"mse\", optimizer=\"adam\", metrics=[last_time_step_mse])\n",
    "history = model.fit(X_train, Y_train, epochs=20,\n",
    "                    validation_data=(X_valid, Y_valid))"
   ]
  }
 ],
 "metadata": {
  "kernelspec": {
   "display_name": "Python 3",
   "language": "python",
   "name": "python3"
  },
  "language_info": {
   "codemirror_mode": {
    "name": "ipython",
    "version": 3
   },
   "file_extension": ".py",
   "mimetype": "text/x-python",
   "name": "python",
   "nbconvert_exporter": "python",
   "pygments_lexer": "ipython3",
   "version": "3.6.8"
  }
 },
 "nbformat": 4,
 "nbformat_minor": 5
}
