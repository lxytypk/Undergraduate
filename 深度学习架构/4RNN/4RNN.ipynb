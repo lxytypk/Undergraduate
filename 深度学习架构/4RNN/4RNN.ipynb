{
 "cells": [
  {
   "cell_type": "code",
   "execution_count": 1,
   "id": "0c86330e",
   "metadata": {},
   "outputs": [],
   "source": [
    "import numpy as np\n",
    "import pandas as pd"
   ]
  },
  {
   "cell_type": "markdown",
   "id": "1ace1b8c",
   "metadata": {},
   "source": [
    "### 函数generate_time_series()生成的时间序列"
   ]
  },
  {
   "cell_type": "code",
   "execution_count": 2,
   "id": "74c9f089",
   "metadata": {},
   "outputs": [],
   "source": [
    "'''生成一批时间序列数据，每个时间序列由两个正弦波的和以及一些噪声构成'''\n",
    "def generate_time_series(batch_size,n_steps):\n",
    "    freq1,freq2,offsets1,offsets2=np.random.rand(4,batch_size,1) #每个时间步只有一个值\n",
    "    \n",
    "    time=np.linspace(0, 1, n_steps) #生成时间步数组\n",
    "    series=0.5*np.sin((time-offsets1)*(freq1*10+10)) #wave 1\n",
    "    series+=0.2*np.sin((time-offsets2)*(freq2*20+20)) # +wave 2\n",
    "    series+=0.1*(np.random.rand(batch_size,n_steps)-0.5) # +noise\n",
    "    return series[...,np.newaxis].astype(np.float32) #返回 [批次大小，时间步数，1]，每个序列是2个正弦波之和（固定强度+随机频率和相位）+噪声\n",
    "#在原始数组 series 的末尾添加了一个新的轴，从而改变了数组的维度\n",
    "#series 是一个二维数组，形状为 (batch_size, n_steps)\n",
    "\n",
    "#其形状是 批次大小 时间步数 维度 "
   ]
  },
  {
   "cell_type": "markdown",
   "id": "8c85b960",
   "metadata": {},
   "source": [
    "### 创建训练集、验证集和测试集"
   ]
  },
  {
   "cell_type": "code",
   "execution_count": 3,
   "id": "c0fe02ad",
   "metadata": {},
   "outputs": [],
   "source": [
    "n_steps=50\n",
    "series=generate_time_series(10000,n_steps+1)\n",
    "X_train,y_train=series[:7000,:n_steps],series[:7000,-1] #7000个时间序列，形状是[7000,50,1]\n",
    "X_valid,y_valid=series[7000:9000,:n_steps],series[7000:9000,-1]\n",
    "X_test,y_test=series[9000:,:n_steps],series[9000:,-1]"
   ]
  },
  {
   "cell_type": "markdown",
   "id": "d031e250",
   "metadata": {},
   "source": [
    "### 线性模型\n",
    "使预测值是时间序列中每个值的线性组合"
   ]
  },
  {
   "cell_type": "code",
   "execution_count": 2,
   "id": "2bb9aefa",
   "metadata": {},
   "outputs": [],
   "source": [
    "import tensorflow as tf\n",
    "from tensorflow import keras\n",
    "from tensorflow.keras.models import Sequential\n",
    "from tensorflow.keras.layers import Dense,Flatten,SimpleRNN,Conv1D,TimeDistributed,GRU,MaxPool1D\n",
    "from tensorflow.keras.optimizers import Adam\n",
    "import numpy as np\n",
    "import pandas as pd"
   ]
  },
  {
   "cell_type": "code",
   "execution_count": 6,
   "id": "e192c59f",
   "metadata": {},
   "outputs": [
    {
     "name": "stdout",
     "output_type": "stream",
     "text": [
      "Epoch 1/20\n",
      "219/219 [==============================] - 1s 1ms/step - loss: 0.1244 - val_loss: 0.0445\n",
      "Epoch 2/20\n",
      "219/219 [==============================] - 0s 961us/step - loss: 0.0333 - val_loss: 0.0241\n",
      "Epoch 3/20\n",
      "219/219 [==============================] - 0s 1ms/step - loss: 0.0209 - val_loss: 0.0167\n",
      "Epoch 4/20\n",
      "219/219 [==============================] - 0s 1ms/step - loss: 0.0158 - val_loss: 0.0131\n",
      "Epoch 5/20\n",
      "219/219 [==============================] - 0s 919us/step - loss: 0.0128 - val_loss: 0.0109\n",
      "Epoch 6/20\n",
      "219/219 [==============================] - 0s 893us/step - loss: 0.0109 - val_loss: 0.0093\n",
      "Epoch 7/20\n",
      "219/219 [==============================] - 0s 940us/step - loss: 0.0094 - val_loss: 0.0081\n",
      "Epoch 8/20\n",
      "219/219 [==============================] - 0s 921us/step - loss: 0.0081 - val_loss: 0.0071\n",
      "Epoch 9/20\n",
      "219/219 [==============================] - 0s 905us/step - loss: 0.0071 - val_loss: 0.0064\n",
      "Epoch 10/20\n",
      "219/219 [==============================] - 0s 842us/step - loss: 0.0063 - val_loss: 0.0057\n",
      "Epoch 11/20\n",
      "219/219 [==============================] - 0s 1ms/step - loss: 0.0056 - val_loss: 0.0052\n",
      "Epoch 12/20\n",
      "219/219 [==============================] - 0s 835us/step - loss: 0.0051 - val_loss: 0.0048\n",
      "Epoch 13/20\n",
      "219/219 [==============================] - 0s 1ms/step - loss: 0.0047 - val_loss: 0.0045\n",
      "Epoch 14/20\n",
      "219/219 [==============================] - 0s 888us/step - loss: 0.0045 - val_loss: 0.0044\n",
      "Epoch 15/20\n",
      "219/219 [==============================] - 0s 832us/step - loss: 0.0042 - val_loss: 0.0042\n",
      "Epoch 16/20\n",
      "219/219 [==============================] - 0s 1ms/step - loss: 0.0041 - val_loss: 0.0041\n",
      "Epoch 17/20\n",
      "219/219 [==============================] - 0s 945us/step - loss: 0.0040 - val_loss: 0.0039\n",
      "Epoch 18/20\n",
      "219/219 [==============================] - 0s 870us/step - loss: 0.0039 - val_loss: 0.0038\n",
      "Epoch 19/20\n",
      "219/219 [==============================] - 0s 1ms/step - loss: 0.0038 - val_loss: 0.0037\n",
      "Epoch 20/20\n",
      "219/219 [==============================] - 0s 2ms/step - loss: 0.0037 - val_loss: 0.0037\n",
      "63/63 [==============================] - 0s 1ms/step - loss: 0.0037\n"
     ]
    },
    {
     "data": {
      "text/plain": [
       "0.003688463941216469"
      ]
     },
     "execution_count": 6,
     "metadata": {},
     "output_type": "execute_result"
    }
   ],
   "source": [
    "\n",
    "'''使用 MSE 损失、Adam 优化器编译模型，在训练集上训练 20 个周期，用验证集评估'''\n",
    "model=Sequential([Flatten(input_shape=[50,1]),Dense(1)])\n",
    "\n",
    "model.compile(loss='mse',optimizer='adam')\n",
    "history=model.fit(X_train,y_train,epochs=20,validation_data=(X_valid,y_valid))\n",
    "\n",
    "model.evaluate(X_valid,y_valid)"
   ]
  },
  {
   "cell_type": "markdown",
   "id": "b85e2b4a",
   "metadata": {},
   "source": [
    "### 简单的RNN"
   ]
  },
  {
   "cell_type": "code",
   "execution_count": 9,
   "id": "ee9f5335",
   "metadata": {},
   "outputs": [
    {
     "name": "stdout",
     "output_type": "stream",
     "text": [
      "Epoch 1/20\n",
      "219/219 [==============================] - 2s 7ms/step - loss: 0.3680 - val_loss: 0.2544\n",
      "Epoch 2/20\n",
      "219/219 [==============================] - 1s 7ms/step - loss: 0.1791 - val_loss: 0.1203\n",
      "Epoch 3/20\n",
      "219/219 [==============================] - 2s 8ms/step - loss: 0.0804 - val_loss: 0.0490\n",
      "Epoch 4/20\n",
      "219/219 [==============================] - 2s 7ms/step - loss: 0.0312 - val_loss: 0.0195\n",
      "Epoch 5/20\n",
      "219/219 [==============================] - 2s 10ms/step - loss: 0.0148 - val_loss: 0.0126\n",
      "Epoch 6/20\n",
      "219/219 [==============================] - 3s 13ms/step - loss: 0.0118 - val_loss: 0.0118\n",
      "Epoch 7/20\n",
      "219/219 [==============================] - 3s 12ms/step - loss: 0.0115 - val_loss: 0.0117\n",
      "Epoch 8/20\n",
      "219/219 [==============================] - 2s 11ms/step - loss: 0.0114 - val_loss: 0.0117\n",
      "Epoch 9/20\n",
      "219/219 [==============================] - 3s 12ms/step - loss: 0.0114 - val_loss: 0.0117\n",
      "Epoch 10/20\n",
      "219/219 [==============================] - 2s 10ms/step - loss: 0.0114 - val_loss: 0.0116\n",
      "Epoch 11/20\n",
      "219/219 [==============================] - 2s 11ms/step - loss: 0.0113 - val_loss: 0.0116\n",
      "Epoch 12/20\n",
      "219/219 [==============================] - 2s 11ms/step - loss: 0.0113 - val_loss: 0.0116\n",
      "Epoch 13/20\n",
      "219/219 [==============================] - 2s 11ms/step - loss: 0.0113 - val_loss: 0.0116\n",
      "Epoch 14/20\n",
      "219/219 [==============================] - 2s 11ms/step - loss: 0.0113 - val_loss: 0.0117\n",
      "Epoch 15/20\n",
      "219/219 [==============================] - 2s 9ms/step - loss: 0.0113 - val_loss: 0.0116\n",
      "Epoch 16/20\n",
      "219/219 [==============================] - 2s 9ms/step - loss: 0.0113 - val_loss: 0.0116\n",
      "Epoch 17/20\n",
      "219/219 [==============================] - 2s 9ms/step - loss: 0.0113 - val_loss: 0.0116\n",
      "Epoch 18/20\n",
      "219/219 [==============================] - 2s 8ms/step - loss: 0.0113 - val_loss: 0.0116\n",
      "Epoch 19/20\n",
      "219/219 [==============================] - 1s 7ms/step - loss: 0.0113 - val_loss: 0.0116\n",
      "Epoch 20/20\n",
      "219/219 [==============================] - 2s 7ms/step - loss: 0.0113 - val_loss: 0.0117\n",
      "63/63 [==============================] - 0s 3ms/step - loss: 0.0117\n"
     ]
    },
    {
     "data": {
      "text/plain": [
       "0.011659803800284863"
      ]
     },
     "execution_count": 9,
     "metadata": {},
     "output_type": "execute_result"
    }
   ],
   "source": [
    "'''\n",
    "只有 1 个层，1 个神经元\n",
    "不用指定输入序列的长度，因为循环神经网络可以处理任意的时间步（这就是为什么将第一个输入维度设为None）\n",
    "'''\n",
    "model=Sequential([SimpleRNN(1,input_shape=[None,1])])\n",
    "\n",
    "optimizer=Adam(learning_rate=0.005)\n",
    "model.compile(loss='mse',optimizer=optimizer)\n",
    "history=model.fit(X_train,y_train,epochs=20,validation_data=(X_valid,y_valid))\n",
    "\n",
    "model.evaluate(X_valid,y_valid)"
   ]
  },
  {
   "cell_type": "markdown",
   "id": "867c3384",
   "metadata": {},
   "source": [
    "### 深度RNN\n",
    "3个SimpleRNN"
   ]
  },
  {
   "cell_type": "code",
   "execution_count": 10,
   "id": "297e6370",
   "metadata": {},
   "outputs": [
    {
     "name": "stdout",
     "output_type": "stream",
     "text": [
      "Epoch 1/20\n",
      "219/219 [==============================] - 6s 21ms/step - loss: 0.0271 - val_loss: 0.0083\n",
      "Epoch 2/20\n",
      "219/219 [==============================] - 7s 30ms/step - loss: 0.0070 - val_loss: 0.0053\n",
      "Epoch 3/20\n",
      "219/219 [==============================] - 9s 41ms/step - loss: 0.0053 - val_loss: 0.0043\n",
      "Epoch 4/20\n",
      "219/219 [==============================] - 8s 35ms/step - loss: 0.0044 - val_loss: 0.0039\n",
      "Epoch 5/20\n",
      "219/219 [==============================] - 4s 19ms/step - loss: 0.0042 - val_loss: 0.0037\n",
      "Epoch 6/20\n",
      "219/219 [==============================] - 4s 18ms/step - loss: 0.0038 - val_loss: 0.0034\n",
      "Epoch 7/20\n",
      "219/219 [==============================] - 5s 21ms/step - loss: 0.0036 - val_loss: 0.0034\n",
      "Epoch 8/20\n",
      "219/219 [==============================] - 7s 30ms/step - loss: 0.0036 - val_loss: 0.0032\n",
      "Epoch 9/20\n",
      "219/219 [==============================] - 6s 28ms/step - loss: 0.0035 - val_loss: 0.0033\n",
      "Epoch 10/20\n",
      "219/219 [==============================] - 4s 18ms/step - loss: 0.0035 - val_loss: 0.0044\n",
      "Epoch 11/20\n",
      "219/219 [==============================] - 4s 18ms/step - loss: 0.0034 - val_loss: 0.0035\n",
      "Epoch 12/20\n",
      "219/219 [==============================] - 4s 18ms/step - loss: 0.0033 - val_loss: 0.0034\n",
      "Epoch 13/20\n",
      "219/219 [==============================] - 4s 18ms/step - loss: 0.0032 - val_loss: 0.0030\n",
      "Epoch 14/20\n",
      "219/219 [==============================] - 4s 16ms/step - loss: 0.0032 - val_loss: 0.0030\n",
      "Epoch 15/20\n",
      "219/219 [==============================] - 4s 17ms/step - loss: 0.0032 - val_loss: 0.0030\n",
      "Epoch 16/20\n",
      "219/219 [==============================] - 4s 16ms/step - loss: 0.0032 - val_loss: 0.0030\n",
      "Epoch 17/20\n",
      "219/219 [==============================] - 4s 16ms/step - loss: 0.0032 - val_loss: 0.0029\n",
      "Epoch 18/20\n",
      "219/219 [==============================] - 4s 16ms/step - loss: 0.0031 - val_loss: 0.0033\n",
      "Epoch 19/20\n",
      "219/219 [==============================] - 3s 15ms/step - loss: 0.0032 - val_loss: 0.0031\n",
      "Epoch 20/20\n",
      "219/219 [==============================] - 3s 16ms/step - loss: 0.0030 - val_loss: 0.0028\n",
      "63/63 [==============================] - 0s 6ms/step - loss: 0.0028\n"
     ]
    },
    {
     "data": {
      "text/plain": [
       "0.002830996410921216"
      ]
     },
     "execution_count": 10,
     "metadata": {},
     "output_type": "execute_result"
    }
   ],
   "source": [
    "'''\n",
    "所有循环层一定要设置return_sequences=True（除了最后一层，因为最后一层只关心输出\n",
    "如果没有设置，输出的是 2D 数组（只有最终时间步的输出），而不是3D数组（包含所有时间步的输出），下一个循环层就接收不到 3D 格式的序列数据。\n",
    "'''\n",
    "model=Sequential([\n",
    "    SimpleRNN(20,return_sequences=True,input_shape=[None,1]),\n",
    "    SimpleRNN(20,return_sequences=True),\n",
    "    SimpleRNN(1)\n",
    "])\n",
    "\n",
    "model.compile(loss='mse',optimizer='adam')\n",
    "history=model.fit(X_train,y_train,epochs=20,validation_data=(X_valid,y_valid))\n",
    "\n",
    "model.evaluate(X_valid,y_valid)"
   ]
  },
  {
   "cell_type": "code",
   "execution_count": 11,
   "id": "06d3d137",
   "metadata": {},
   "outputs": [
    {
     "name": "stdout",
     "output_type": "stream",
     "text": [
      "Epoch 1/20\n",
      "219/219 [==============================] - 4s 13ms/step - loss: 0.0168 - val_loss: 0.0054\n",
      "Epoch 2/20\n",
      "219/219 [==============================] - 3s 15ms/step - loss: 0.0046 - val_loss: 0.0046\n",
      "Epoch 3/20\n",
      "219/219 [==============================] - 6s 27ms/step - loss: 0.0038 - val_loss: 0.0040\n",
      "Epoch 4/20\n",
      "219/219 [==============================] - 7s 33ms/step - loss: 0.0036 - val_loss: 0.0031\n",
      "Epoch 5/20\n",
      "219/219 [==============================] - 5s 23ms/step - loss: 0.0034 - val_loss: 0.0037\n",
      "Epoch 6/20\n",
      "219/219 [==============================] - 4s 20ms/step - loss: 0.0033 - val_loss: 0.0030\n",
      "Epoch 7/20\n",
      "219/219 [==============================] - 5s 21ms/step - loss: 0.0032 - val_loss: 0.0032\n",
      "Epoch 8/20\n",
      "219/219 [==============================] - 4s 21ms/step - loss: 0.0032 - val_loss: 0.0028\n",
      "Epoch 9/20\n",
      "219/219 [==============================] - 5s 21ms/step - loss: 0.0031 - val_loss: 0.0029\n",
      "Epoch 10/20\n",
      "219/219 [==============================] - 4s 20ms/step - loss: 0.0030 - val_loss: 0.0029\n",
      "Epoch 11/20\n",
      "219/219 [==============================] - 5s 21ms/step - loss: 0.0029 - val_loss: 0.0028\n",
      "Epoch 12/20\n",
      "219/219 [==============================] - 5s 21ms/step - loss: 0.0029 - val_loss: 0.0027\n",
      "Epoch 13/20\n",
      "219/219 [==============================] - 5s 21ms/step - loss: 0.0030 - val_loss: 0.0030\n",
      "Epoch 14/20\n",
      "219/219 [==============================] - 5s 21ms/step - loss: 0.0028 - val_loss: 0.0038\n",
      "Epoch 15/20\n",
      "219/219 [==============================] - 5s 21ms/step - loss: 0.0029 - val_loss: 0.0029\n",
      "Epoch 16/20\n",
      "219/219 [==============================] - 5s 21ms/step - loss: 0.0028 - val_loss: 0.0027\n",
      "Epoch 17/20\n",
      "219/219 [==============================] - 5s 22ms/step - loss: 0.0028 - val_loss: 0.0028\n",
      "Epoch 18/20\n",
      "219/219 [==============================] - 5s 21ms/step - loss: 0.0028 - val_loss: 0.0027\n",
      "Epoch 19/20\n",
      "219/219 [==============================] - 5s 21ms/step - loss: 0.0028 - val_loss: 0.0029\n",
      "Epoch 20/20\n",
      "219/219 [==============================] - 4s 20ms/step - loss: 0.0028 - val_loss: 0.0027\n",
      "63/63 [==============================] - 0s 6ms/step - loss: 0.0027\n"
     ]
    },
    {
     "data": {
      "text/plain": [
       "0.0027142001781612635"
      ]
     },
     "execution_count": 11,
     "metadata": {},
     "output_type": "execute_result"
    }
   ],
   "source": [
    "'''\n",
    "所有循环层一定要设置return_sequences=True（除了最后一层，因为最后一层只关心输出\n",
    "如果没有设置，输出的是 2D 数组（只有最终时间步的输出），而不是3D数组（包含所有时间步的输出），下一个循环层就接收不到 3D 格式的序列数据。\n",
    "'''\n",
    "model=Sequential([\n",
    "    SimpleRNN(20,return_sequences=True,input_shape=[None,1]),\n",
    "    SimpleRNN(20),\n",
    "    Dense(1)\n",
    "])\n",
    "\n",
    "model.compile(loss='mse',optimizer='adam')\n",
    "history=model.fit(X_train,y_train,epochs=20,validation_data=(X_valid,y_valid))\n",
    "\n",
    "model.evaluate(X_valid,y_valid)"
   ]
  },
  {
   "cell_type": "markdown",
   "id": "79ebce17",
   "metadata": {},
   "source": [
    "### 使用1D卷积层处理序列"
   ]
  },
  {
   "cell_type": "code",
   "execution_count": null,
   "id": "7facbd6c",
   "metadata": {},
   "outputs": [],
   "source": [
    "n_steps = 50\n",
    "series = generate_time_series(10000, n_steps + 10)\n",
    "X_train = series[:7000, :n_steps]\n",
    "X_valid = series[7000:9000, :n_steps]\n",
    "X_test = series[9000:, :n_steps]\n",
    "Y = np.empty((10000, n_steps, 10))\n",
    "for step_ahead in range(1, 10 + 1):\n",
    "    Y[..., step_ahead - 1] = series[..., step_ahead:step_ahead + n_steps, 0]\n",
    "Y_train = Y[:7000]\n",
    "Y_valid = Y[7000:9000]\n",
    "Y_test = Y[9000:]"
   ]
  },
  {
   "cell_type": "code",
   "execution_count": null,
   "id": "e8b5e5bc",
   "metadata": {},
   "outputs": [],
   "source": [
    "def last_time_step_mse(Y_true, Y_pred):\n",
    "    return keras.metrics.mean_squared_error(Y_true[:, -1], Y_pred[:, -1])"
   ]
  },
  {
   "cell_type": "code",
   "execution_count": 3,
   "id": "dbe84fb1",
   "metadata": {},
   "outputs": [
    {
     "ename": "TypeError",
     "evalue": "('Keyword argument not understood:', 'input_size')",
     "output_type": "error",
     "traceback": [
      "\u001b[1;31m---------------------------------------------------------------------------\u001b[0m",
      "\u001b[1;31mTypeError\u001b[0m                                 Traceback (most recent call last)",
      "\u001b[1;32m<ipython-input-3-49ff62457edc>\u001b[0m in \u001b[0;36m<module>\u001b[1;34m\u001b[0m\n\u001b[0;32m      2\u001b[0m     Conv1D(filters=20,kernel_size=4,\n\u001b[0;32m      3\u001b[0m            \u001b[0mstrides\u001b[0m\u001b[1;33m=\u001b[0m\u001b[1;36m2\u001b[0m\u001b[1;33m,\u001b[0m\u001b[0mpadding\u001b[0m\u001b[1;33m=\u001b[0m\u001b[1;34m'VALID'\u001b[0m\u001b[1;33m,\u001b[0m\u001b[1;33m\u001b[0m\u001b[1;33m\u001b[0m\u001b[0m\n\u001b[1;32m----> 4\u001b[1;33m            input_size=[None,1]),\n\u001b[0m\u001b[0;32m      5\u001b[0m     \u001b[0mGRU\u001b[0m\u001b[1;33m(\u001b[0m\u001b[1;36m20\u001b[0m\u001b[1;33m,\u001b[0m\u001b[0mreturn_sequences\u001b[0m\u001b[1;33m=\u001b[0m\u001b[1;32mTrue\u001b[0m\u001b[1;33m)\u001b[0m\u001b[1;33m,\u001b[0m\u001b[1;33m\u001b[0m\u001b[1;33m\u001b[0m\u001b[0m\n\u001b[0;32m      6\u001b[0m     \u001b[0mGRU\u001b[0m\u001b[1;33m(\u001b[0m\u001b[1;36m20\u001b[0m\u001b[1;33m,\u001b[0m\u001b[0mreturn_sequences\u001b[0m\u001b[1;33m=\u001b[0m\u001b[1;32mTrue\u001b[0m\u001b[1;33m)\u001b[0m\u001b[1;33m,\u001b[0m\u001b[1;33m\u001b[0m\u001b[1;33m\u001b[0m\u001b[0m\n",
      "\u001b[1;32mc:\\Program Files\\Python36\\lib\\site-packages\\keras\\layers\\convolutional.py\u001b[0m in \u001b[0;36m__init__\u001b[1;34m(self, filters, kernel_size, strides, padding, data_format, dilation_rate, groups, activation, use_bias, kernel_initializer, bias_initializer, kernel_regularizer, bias_regularizer, activity_regularizer, kernel_constraint, bias_constraint, **kwargs)\u001b[0m\n\u001b[0;32m    516\u001b[0m         \u001b[0mkernel_constraint\u001b[0m\u001b[1;33m=\u001b[0m\u001b[0mconstraints\u001b[0m\u001b[1;33m.\u001b[0m\u001b[0mget\u001b[0m\u001b[1;33m(\u001b[0m\u001b[0mkernel_constraint\u001b[0m\u001b[1;33m)\u001b[0m\u001b[1;33m,\u001b[0m\u001b[1;33m\u001b[0m\u001b[1;33m\u001b[0m\u001b[0m\n\u001b[0;32m    517\u001b[0m         \u001b[0mbias_constraint\u001b[0m\u001b[1;33m=\u001b[0m\u001b[0mconstraints\u001b[0m\u001b[1;33m.\u001b[0m\u001b[0mget\u001b[0m\u001b[1;33m(\u001b[0m\u001b[0mbias_constraint\u001b[0m\u001b[1;33m)\u001b[0m\u001b[1;33m,\u001b[0m\u001b[1;33m\u001b[0m\u001b[1;33m\u001b[0m\u001b[0m\n\u001b[1;32m--> 518\u001b[1;33m         **kwargs)\n\u001b[0m\u001b[0;32m    519\u001b[0m \u001b[1;33m\u001b[0m\u001b[0m\n\u001b[0;32m    520\u001b[0m \u001b[1;33m\u001b[0m\u001b[0m\n",
      "\u001b[1;32mc:\\Program Files\\Python36\\lib\\site-packages\\keras\\layers\\convolutional.py\u001b[0m in \u001b[0;36m__init__\u001b[1;34m(self, rank, filters, kernel_size, strides, padding, data_format, dilation_rate, groups, activation, use_bias, kernel_initializer, bias_initializer, kernel_regularizer, bias_regularizer, activity_regularizer, kernel_constraint, bias_constraint, trainable, name, conv_op, **kwargs)\u001b[0m\n\u001b[0;32m    128\u001b[0m         \u001b[0mname\u001b[0m\u001b[1;33m=\u001b[0m\u001b[0mname\u001b[0m\u001b[1;33m,\u001b[0m\u001b[1;33m\u001b[0m\u001b[1;33m\u001b[0m\u001b[0m\n\u001b[0;32m    129\u001b[0m         \u001b[0mactivity_regularizer\u001b[0m\u001b[1;33m=\u001b[0m\u001b[0mregularizers\u001b[0m\u001b[1;33m.\u001b[0m\u001b[0mget\u001b[0m\u001b[1;33m(\u001b[0m\u001b[0mactivity_regularizer\u001b[0m\u001b[1;33m)\u001b[0m\u001b[1;33m,\u001b[0m\u001b[1;33m\u001b[0m\u001b[1;33m\u001b[0m\u001b[0m\n\u001b[1;32m--> 130\u001b[1;33m         **kwargs)\n\u001b[0m\u001b[0;32m    131\u001b[0m     \u001b[0mself\u001b[0m\u001b[1;33m.\u001b[0m\u001b[0mrank\u001b[0m \u001b[1;33m=\u001b[0m \u001b[0mrank\u001b[0m\u001b[1;33m\u001b[0m\u001b[1;33m\u001b[0m\u001b[0m\n\u001b[0;32m    132\u001b[0m \u001b[1;33m\u001b[0m\u001b[0m\n",
      "\u001b[1;32mc:\\Program Files\\Python36\\lib\\site-packages\\tensorflow\\python\\training\\tracking\\base.py\u001b[0m in \u001b[0;36m_method_wrapper\u001b[1;34m(self, *args, **kwargs)\u001b[0m\n\u001b[0;32m    528\u001b[0m     \u001b[0mself\u001b[0m\u001b[1;33m.\u001b[0m\u001b[0m_self_setattr_tracking\u001b[0m \u001b[1;33m=\u001b[0m \u001b[1;32mFalse\u001b[0m  \u001b[1;31m# pylint: disable=protected-access\u001b[0m\u001b[1;33m\u001b[0m\u001b[1;33m\u001b[0m\u001b[0m\n\u001b[0;32m    529\u001b[0m     \u001b[1;32mtry\u001b[0m\u001b[1;33m:\u001b[0m\u001b[1;33m\u001b[0m\u001b[1;33m\u001b[0m\u001b[0m\n\u001b[1;32m--> 530\u001b[1;33m       \u001b[0mresult\u001b[0m \u001b[1;33m=\u001b[0m \u001b[0mmethod\u001b[0m\u001b[1;33m(\u001b[0m\u001b[0mself\u001b[0m\u001b[1;33m,\u001b[0m \u001b[1;33m*\u001b[0m\u001b[0margs\u001b[0m\u001b[1;33m,\u001b[0m \u001b[1;33m**\u001b[0m\u001b[0mkwargs\u001b[0m\u001b[1;33m)\u001b[0m\u001b[1;33m\u001b[0m\u001b[1;33m\u001b[0m\u001b[0m\n\u001b[0m\u001b[0;32m    531\u001b[0m     \u001b[1;32mfinally\u001b[0m\u001b[1;33m:\u001b[0m\u001b[1;33m\u001b[0m\u001b[1;33m\u001b[0m\u001b[0m\n\u001b[0;32m    532\u001b[0m       \u001b[0mself\u001b[0m\u001b[1;33m.\u001b[0m\u001b[0m_self_setattr_tracking\u001b[0m \u001b[1;33m=\u001b[0m \u001b[0mprevious_value\u001b[0m  \u001b[1;31m# pylint: disable=protected-access\u001b[0m\u001b[1;33m\u001b[0m\u001b[1;33m\u001b[0m\u001b[0m\n",
      "\u001b[1;32mc:\\Program Files\\Python36\\lib\\site-packages\\keras\\engine\\base_layer.py\u001b[0m in \u001b[0;36m__init__\u001b[1;34m(self, trainable, name, dtype, dynamic, **kwargs)\u001b[0m\n\u001b[0;32m    321\u001b[0m     }\n\u001b[0;32m    322\u001b[0m     \u001b[1;31m# Validate optional keyword arguments.\u001b[0m\u001b[1;33m\u001b[0m\u001b[1;33m\u001b[0m\u001b[1;33m\u001b[0m\u001b[0m\n\u001b[1;32m--> 323\u001b[1;33m     \u001b[0mgeneric_utils\u001b[0m\u001b[1;33m.\u001b[0m\u001b[0mvalidate_kwargs\u001b[0m\u001b[1;33m(\u001b[0m\u001b[0mkwargs\u001b[0m\u001b[1;33m,\u001b[0m \u001b[0mallowed_kwargs\u001b[0m\u001b[1;33m)\u001b[0m\u001b[1;33m\u001b[0m\u001b[1;33m\u001b[0m\u001b[0m\n\u001b[0m\u001b[0;32m    324\u001b[0m \u001b[1;33m\u001b[0m\u001b[0m\n\u001b[0;32m    325\u001b[0m     \u001b[1;31m# Mutable properties\u001b[0m\u001b[1;33m\u001b[0m\u001b[1;33m\u001b[0m\u001b[1;33m\u001b[0m\u001b[0m\n",
      "\u001b[1;32mc:\\Program Files\\Python36\\lib\\site-packages\\keras\\utils\\generic_utils.py\u001b[0m in \u001b[0;36mvalidate_kwargs\u001b[1;34m(kwargs, allowed_kwargs, error_message)\u001b[0m\n\u001b[0;32m   1141\u001b[0m   \u001b[1;32mfor\u001b[0m \u001b[0mkwarg\u001b[0m \u001b[1;32min\u001b[0m \u001b[0mkwargs\u001b[0m\u001b[1;33m:\u001b[0m\u001b[1;33m\u001b[0m\u001b[1;33m\u001b[0m\u001b[0m\n\u001b[0;32m   1142\u001b[0m     \u001b[1;32mif\u001b[0m \u001b[0mkwarg\u001b[0m \u001b[1;32mnot\u001b[0m \u001b[1;32min\u001b[0m \u001b[0mallowed_kwargs\u001b[0m\u001b[1;33m:\u001b[0m\u001b[1;33m\u001b[0m\u001b[1;33m\u001b[0m\u001b[0m\n\u001b[1;32m-> 1143\u001b[1;33m       \u001b[1;32mraise\u001b[0m \u001b[0mTypeError\u001b[0m\u001b[1;33m(\u001b[0m\u001b[0merror_message\u001b[0m\u001b[1;33m,\u001b[0m \u001b[0mkwarg\u001b[0m\u001b[1;33m)\u001b[0m\u001b[1;33m\u001b[0m\u001b[1;33m\u001b[0m\u001b[0m\n\u001b[0m\u001b[0;32m   1144\u001b[0m \u001b[1;33m\u001b[0m\u001b[0m\n\u001b[0;32m   1145\u001b[0m \u001b[1;33m\u001b[0m\u001b[0m\n",
      "\u001b[1;31mTypeError\u001b[0m: ('Keyword argument not understood:', 'input_size')"
     ]
    }
   ],
   "source": [
    "model = keras.models.Sequential([\n",
    "    keras.layers.Conv1D(filters=20, kernel_size=4, strides=2, padding=\"valid\",\n",
    "                        input_shape=[None, 1]),\n",
    "    keras.layers.GRU(20, return_sequences=True),\n",
    "    keras.layers.GRU(20, return_sequences=True),\n",
    "    keras.layers.TimeDistributed(keras.layers.Dense(10))\n",
    "])\n",
    "\n",
    "model.compile(loss=\"mse\", optimizer=\"adam\", metrics=[last_time_step_mse])\n",
    "history = model.fit(X_train, Y_train[:, 3::2], epochs=20,\n",
    "                    validation_data=(X_valid, Y_valid[:, 3::2]))"
   ]
  },
  {
   "cell_type": "markdown",
   "id": "2e756c78",
   "metadata": {},
   "source": [
    "### 1维卷积神经网络，并对随机数据进行处理"
   ]
  },
  {
   "cell_type": "code",
   "execution_count": null,
   "id": "146c2000",
   "metadata": {},
   "outputs": [],
   "source": [
    "#卷积层\n",
    "filters=1\n",
    "kernel_size=5\n",
    "convolution_1d_layer=Conv1D(filters,kernel_size,strides=1,input_shape=[25,1],padding='VALID',activation='relu')\n",
    "#池化层\n",
    "max_pooling_layer=MaxPool1D(pool_size=5,strides=1,padding='VALID')\n",
    "\n",
    "#创建一维向量，并扩展维度为(1,25,1)\n",
    "data_1d=np.random.normal(size=25)\n",
    "data_1d=np.expand_dims(data_1d,0)\n",
    "data_1d=np.expand_dims(data_1d,2)\n",
    "\n",
    "output=model.predict(data_1d)\n",
    "print(output)"
   ]
  },
  {
   "cell_type": "code",
   "execution_count": null,
   "id": "cfb48fbd",
   "metadata": {},
   "outputs": [
    {
     "data": {
      "text/plain": [
       "array([-1.77548559, -0.57999813, -0.51110387,  0.21865217, -0.14772994,\n",
       "        2.56035814, -1.63324737,  1.06723355, -1.12770584,  0.03411521,\n",
       "       -0.17187189,  0.9176972 ,  0.8620269 ,  0.76294606,  2.83128853,\n",
       "       -0.6556783 ,  1.74314179, -0.44547304, -0.84686993, -0.23310408,\n",
       "        1.66333698,  1.76469115,  0.90672214,  1.22336184,  1.0249977 ])"
      ]
     },
     "execution_count": 2,
     "metadata": {},
     "output_type": "execute_result"
    }
   ],
   "source": [
    "import numpy as np\n",
    "#创建一维向量，并扩展维度为(1,25,1)\n",
    "data_1d=np.random.normal(size=25)\n",
    "data_1d"
   ]
  },
  {
   "cell_type": "code",
   "execution_count": null,
   "id": "85b1b72b",
   "metadata": {},
   "outputs": [
    {
     "data": {
      "text/plain": [
       "array([[-1.77548559, -0.57999813, -0.51110387,  0.21865217, -0.14772994,\n",
       "         2.56035814, -1.63324737,  1.06723355, -1.12770584,  0.03411521,\n",
       "        -0.17187189,  0.9176972 ,  0.8620269 ,  0.76294606,  2.83128853,\n",
       "        -0.6556783 ,  1.74314179, -0.44547304, -0.84686993, -0.23310408,\n",
       "         1.66333698,  1.76469115,  0.90672214,  1.22336184,  1.0249977 ]])"
      ]
     },
     "execution_count": 3,
     "metadata": {},
     "output_type": "execute_result"
    }
   ],
   "source": [
    "data_1d=np.expand_dims(data_1d,0)\n",
    "data_1d"
   ]
  },
  {
   "cell_type": "code",
   "execution_count": null,
   "id": "c32bf60f",
   "metadata": {},
   "outputs": [
    {
     "data": {
      "text/plain": [
       "array([[[-1.77548559],\n",
       "        [-0.57999813],\n",
       "        [-0.51110387],\n",
       "        [ 0.21865217],\n",
       "        [-0.14772994],\n",
       "        [ 2.56035814],\n",
       "        [-1.63324737],\n",
       "        [ 1.06723355],\n",
       "        [-1.12770584],\n",
       "        [ 0.03411521],\n",
       "        [-0.17187189],\n",
       "        [ 0.9176972 ],\n",
       "        [ 0.8620269 ],\n",
       "        [ 0.76294606],\n",
       "        [ 2.83128853],\n",
       "        [-0.6556783 ],\n",
       "        [ 1.74314179],\n",
       "        [-0.44547304],\n",
       "        [-0.84686993],\n",
       "        [-0.23310408],\n",
       "        [ 1.66333698],\n",
       "        [ 1.76469115],\n",
       "        [ 0.90672214],\n",
       "        [ 1.22336184],\n",
       "        [ 1.0249977 ]]])"
      ]
     },
     "execution_count": 4,
     "metadata": {},
     "output_type": "execute_result"
    }
   ],
   "source": [
    "data_1d=np.expand_dims(data_1d,2)\n",
    "data_1d"
   ]
  },
  {
   "cell_type": "markdown",
   "id": "c13fcb20",
   "metadata": {},
   "source": [
    "### WaveNet"
   ]
  },
  {
   "cell_type": "code",
   "execution_count": null,
   "id": "338cdfc8",
   "metadata": {},
   "outputs": [],
   "source": [
    "model=Sequential()\n",
    "for rate in (1,2,4,8)*2:\n",
    "    model.add(Conv1D(filters=20,\n",
    "                     kernel_size=2,\n",
    "                     padding='causal',\n",
    "                     activation='relu',\n",
    "                     dilation_rate=rate,\n",
    "                     input_shape=[None,1]))\n",
    "\n",
    "model.add(Conv1D(filters=10,kernel_size=1))\n",
    "\n",
    "model.compile(loss='mse',optimizer='adam',metrics=[last_time_step_mse])\n",
    "history=model.fit(X_train,y_train,epochs=20,\n",
    "                  validation_data=(X_valid,y_valid))"
   ]
  }
 ],
 "metadata": {
  "kernelspec": {
   "display_name": "Python 3",
   "language": "python",
   "name": "python3"
  },
  "language_info": {
   "codemirror_mode": {
    "name": "ipython",
    "version": 3
   },
   "file_extension": ".py",
   "mimetype": "text/x-python",
   "name": "python",
   "nbconvert_exporter": "python",
   "pygments_lexer": "ipython3",
   "version": "3.6.8"
  }
 },
 "nbformat": 4,
 "nbformat_minor": 5
}
